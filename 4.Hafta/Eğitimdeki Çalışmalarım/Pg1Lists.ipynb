{
 "cells": [
  {
   "attachments": {},
   "cell_type": "markdown",
   "metadata": {},
   "source": [
    "## 4. Hafta Hedefleri\n",
    "- Listeler\n",
    "- Tuple\n",
    "- Set\n",
    "- Dictionary\n",
    "- String Metodları "
   ]
  },
  {
   "attachments": {},
   "cell_type": "markdown",
   "metadata": {},
   "source": [
    "## Listeler \n",
    "- [] içerisinde tutulur.\n",
    "- indexleme, veri güncelleme, silme ve veri ekleme yapılabilir.\n",
    "- iç içe listeler yapılabilir.\n"
   ]
  },
  {
   "cell_type": "code",
   "execution_count": 12,
   "metadata": {},
   "outputs": [
    {
     "name": "stdout",
     "output_type": "stream",
     "text": [
      "ankara\n",
      "washington\n",
      "['washington', 'berlin', 'moskova', 'ankara']\n"
     ]
    }
   ],
   "source": [
    "baskentler = [\"ankara\",\"moskova\",\"berlin\",\"washington\"]\n",
    "\n",
    "print(baskentler[0])\n",
    "print(baskentler[-1])\n",
    "print(baskentler[::-1])\n",
    "\n"
   ]
  },
  {
   "attachments": {},
   "cell_type": "markdown",
   "metadata": {},
   "source": [
    "### Liste Metodları\n",
    "- append() liste sonuna eleman ekler\n",
    "- remove() listeden eleman siler"
   ]
  },
  {
   "cell_type": "code",
   "execution_count": 6,
   "metadata": {},
   "outputs": [
    {
     "name": "stdout",
     "output_type": "stream",
     "text": [
      "['ankara', 'moskova', 'berlin', 'washington', 'londra']\n",
      "5\n",
      "[]\n"
     ]
    }
   ],
   "source": [
    "baskentler.append(\"londra\")\n",
    "print(baskentler)\n",
    "print(len(baskentler))\n",
    "baskentler.clear()\n",
    "print(baskentler)\n"
   ]
  },
  {
   "attachments": {},
   "cell_type": "markdown",
   "metadata": {},
   "source": [
    "- index() :\n",
    "    - bu komut listedeki elemanın indexini verir.\n",
    "    - aranan veriyi ilk bulduğunda durur. ileriki verilere bakmaz.\n",
    "    - eğer veri bulunamazsa ValueError verir.\n"
   ]
  },
  {
   "cell_type": "code",
   "execution_count": 41,
   "metadata": {},
   "outputs": [
    {
     "name": "stdout",
     "output_type": "stream",
     "text": [
      "['istanbul', 'ankara', 'konya', 'ankara', 'bursa']\n"
     ]
    },
    {
     "data": {
      "text/plain": [
       "1"
      ]
     },
     "execution_count": 41,
     "metadata": {},
     "output_type": "execute_result"
    }
   ],
   "source": [
    "sehirler=[\"istanbul\",\"ankara\",\"konya\",\"ankara\",\"bursa\"]\n",
    "print(sehirler)\n",
    "sehirler.index(\"ankara\")"
   ]
  },
  {
   "attachments": {},
   "cell_type": "markdown",
   "metadata": {},
   "source": [
    "- pop(): listedeki elemanı siler.\n",
    "    - index verilmezse son elemanı siler.\n",
    "    - index verilirse o indexdeki eleman silinir."
   ]
  },
  {
   "cell_type": "code",
   "execution_count": 43,
   "metadata": {},
   "outputs": [
    {
     "name": "stdout",
     "output_type": "stream",
     "text": [
      "['istanbul', 'ankara', 'konya', 'ankara']\n",
      "['istanbul', 'ankara', 'konya']\n",
      "['istanbul', 'konya']\n"
     ]
    }
   ],
   "source": [
    "print(sehirler)\n",
    "sehirler.pop()\n",
    "print(sehirler)\n",
    "sehirler.pop(1)\n",
    "print(sehirler)"
   ]
  },
  {
   "attachments": {},
   "cell_type": "markdown",
   "metadata": {},
   "source": [
    "- insert() : istenilen indexe eleman ekler."
   ]
  },
  {
   "cell_type": "code",
   "execution_count": 44,
   "metadata": {},
   "outputs": [
    {
     "name": "stdout",
     "output_type": "stream",
     "text": [
      "['istanbul', 'konya']\n",
      "['istanbul', 'ANGARA', 'konya']\n"
     ]
    }
   ],
   "source": [
    "print(sehirler)\n",
    "sehirler.insert(1, \"ANGARA\")\n",
    "print(sehirler)"
   ]
  },
  {
   "attachments": {},
   "cell_type": "markdown",
   "metadata": {},
   "source": [
    "- reverse() : listeyi ters çevirir."
   ]
  },
  {
   "cell_type": "code",
   "execution_count": 88,
   "metadata": {},
   "outputs": [
    {
     "name": "stdout",
     "output_type": "stream",
     "text": [
      "['konya', 'istanbul', 'ANGARA']\n",
      "['ANGARA', 'istanbul', 'konya']\n"
     ]
    }
   ],
   "source": [
    "print(sehirler)\n",
    "sehirler.reverse()\n",
    "print(sehirler)"
   ]
  },
  {
   "attachments": {},
   "cell_type": "markdown",
   "metadata": {},
   "source": [
    "- sort() : listeyi küçükten büyüğe sıralar "
   ]
  },
  {
   "cell_type": "code",
   "execution_count": 87,
   "metadata": {},
   "outputs": [
    {
     "name": "stdout",
     "output_type": "stream",
     "text": [
      "['konya', 'istanbul', 'ANGARA']\n",
      "None ['ANGARA', 'istanbul', 'konya']\n",
      "None ['konya', 'istanbul', 'ANGARA']\n",
      "['konya', 'istanbul', 'ANGARA']\n"
     ]
    }
   ],
   "source": [
    "print(sehirler)\n",
    "print(sehirler.sort(), sehirler)    \n",
    "print(sehirler.sort(reverse=True) , sehirler)  \n",
    "print(sehirler)\n"
   ]
  },
  {
   "attachments": {},
   "cell_type": "markdown",
   "metadata": {},
   "source": [
    "### Liste toplama"
   ]
  },
  {
   "cell_type": "code",
   "execution_count": 2,
   "metadata": {},
   "outputs": [
    {
     "name": "stdout",
     "output_type": "stream",
     "text": [
      "[1, 2, 3, 'a', 'b', 'c', [410, 'kum']]\n",
      "[410, 'kum']\n",
      "kum\n"
     ]
    }
   ],
   "source": [
    "list1= [1,2,3]\n",
    "list2= [\"a\",\"b\",\"c\", [410,\"kum\"]]\n",
    "topList= list1+list2\n",
    "print(topList)\n",
    "print(topList[-1])\n",
    "print(topList[-1][1])\n"
   ]
  }
 ],
 "metadata": {
  "kernelspec": {
   "display_name": "Python 3",
   "language": "python",
   "name": "python3"
  },
  "language_info": {
   "codemirror_mode": {
    "name": "ipython",
    "version": 3
   },
   "file_extension": ".py",
   "mimetype": "text/x-python",
   "name": "python",
   "nbconvert_exporter": "python",
   "pygments_lexer": "ipython3",
   "version": "3.11.1"
  },
  "orig_nbformat": 4
 },
 "nbformat": 4,
 "nbformat_minor": 2
}
