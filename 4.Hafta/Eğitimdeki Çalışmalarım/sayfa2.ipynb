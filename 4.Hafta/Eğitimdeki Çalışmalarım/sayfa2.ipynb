{
 "cells": [
  {
   "attachments": {},
   "cell_type": "markdown",
   "metadata": {},
   "source": [
    "## Tuple (Demet)\n",
    "- Tuple ile List arasındaki fark: tuple elemanları değiştirilemez.\n",
    "- () içerisinde tanımlanır\n",
    "- iç içe olabilir.\n",
    "- bir kere tanımlandıktan sonra değiştirilemez."
   ]
  },
  {
   "cell_type": "code",
   "execution_count": 7,
   "metadata": {},
   "outputs": [
    {
     "name": "stdout",
     "output_type": "stream",
     "text": [
      "(2, 4, 6, 'ankara', [1, 2, 3])\n",
      "<class 'tuple'>\n",
      "5\n",
      "(2, 4, 6, 'ankara')\n",
      "('ankara', [1, 2, 3])\n"
     ]
    }
   ],
   "source": [
    "tupleList= (2,4,6,\"ankara\",[1,2,3])\n",
    "print(tupleList)\n",
    "print(type(tupleList))\n",
    "print(len(tupleList))\n",
    "print(tupleList[:-1])\n",
    "print(tupleList[3:])"
   ]
  },
  {
   "attachments": {},
   "cell_type": "markdown",
   "metadata": {},
   "source": [
    "## SET\n",
    "- indexsiz ve sırasız elemanlardan oluşur.\n",
    "- veri tekrarı söz konusu değildir. tüm elemanlar eşsizdir.\n",
    "- {} içinde tanımlanır.\n",
    "- hızlı bir veri tipidir."
   ]
  },
  {
   "cell_type": "code",
   "execution_count": 18,
   "metadata": {},
   "outputs": [
    {
     "name": "stdout",
     "output_type": "stream",
     "text": [
      "{'berkcan', 'ahmet', 'enes'}\n",
      "<class 'set'>\n",
      "3\n"
     ]
    }
   ],
   "source": [
    "liderler= {\"enes\",\"berkcan\",\"ahmet\",\"ahmet\",\"enes\"} # tekrar eden elemanlar göz ardı edilir. tek elemean sayılır.\n",
    "print(liderler)\n",
    "print(type(liderler))\n",
    "print(len(liderler))"
   ]
  },
  {
   "attachments": {},
   "cell_type": "markdown",
   "metadata": {},
   "source": [
    "### Set Metodları:\n",
    "    - add() : sete eleman ekler.\n",
    "    - remove() : setten eleman siler.\n",
    "    - clear() : setin tüm elemanlarını siler.\n",
    "    - pop() : setin son elemanını siler.\n",
    "    - update() : sete çoklu eleman ekler. liderler.update([\"eleman\"])\n",
    "    - union() : 2 seti birleştirir.\n",
    "    - intersection() : 2 setin kesişimini alır.\n",
    "    - difference() : 2 setin farkını alır."
   ]
  },
  {
   "cell_type": "code",
   "execution_count": 40,
   "metadata": {},
   "outputs": [
    {
     "name": "stdout",
     "output_type": "stream",
     "text": [
      "{'berkcan', 'ahmet', 'eslem'}\n"
     ]
    }
   ],
   "source": [
    "liderler= {\"ahmet\",\"berkcan\"}\n",
    "liderler.add(\"eslem\")\n",
    "print(liderler)"
   ]
  },
  {
   "cell_type": "code",
   "execution_count": 46,
   "metadata": {},
   "outputs": [
    {
     "data": {
      "text/plain": [
       "{'ahmet', 'berkcan', 'emirhan', 'enes', 'eslem', 'çağla'}"
      ]
     },
     "execution_count": 46,
     "metadata": {},
     "output_type": "execute_result"
    }
   ],
   "source": [
    "liderler.update([\"emirhan\"])\n",
    "liderler.update([\"enes\",\"çağla\"])\n",
    "liderler"
   ]
  },
  {
   "cell_type": "code",
   "execution_count": 51,
   "metadata": {},
   "outputs": [
    {
     "data": {
      "text/plain": [
       "{'ahmet', 'emirhan', 'eslem', 'çağla'}"
      ]
     },
     "execution_count": 51,
     "metadata": {},
     "output_type": "execute_result"
    }
   ],
   "source": [
    "liderler.remove(\"enes\")\n",
    "liderler"
   ]
  },
  {
   "cell_type": "code",
   "execution_count": 83,
   "metadata": {},
   "outputs": [
    {
     "name": "stdout",
     "output_type": "stream",
     "text": [
      "{'ahmet', 'enes'}\n",
      "{'ahmet'}\n"
     ]
    }
   ],
   "source": [
    "liderler.add(\"ahmet\")\n",
    "liderler.add(\"enes\")\n",
    "print(liderler)\n",
    "liderler.pop()\n",
    "print(liderler)\n",
    "liderler.clear()"
   ]
  },
  {
   "cell_type": "code",
   "execution_count": 85,
   "metadata": {},
   "outputs": [
    {
     "name": "stdout",
     "output_type": "stream",
     "text": [
      "{12, 6}\n",
      "{8, 2, 10, 4}\n",
      "{9, 3}\n"
     ]
    }
   ],
   "source": [
    "kume1= {2,4,6,8,10,12}\n",
    "kume2= {3,6,9,12}\n",
    "print(kume1.intersection(kume2)) # kesişim alır\n",
    "print(kume1.difference(kume2)) # kume1'in kume2'den farkı\n",
    "print(kume2.difference(kume1)) # kume2'nin kume1'den farkı"
   ]
  },
  {
   "attachments": {},
   "cell_type": "markdown",
   "metadata": {},
   "source": [
    "## Dictionary(Sözlük)\n",
    "- sırasız veri tutar.\n",
    "- {} arasında tanımlanır\n",
    "- key-value olarak tanımlanır. {06:\"ankara\"}\n",
    "- dict{\"\"}"
   ]
  },
  {
   "cell_type": "code",
   "execution_count": 87,
   "metadata": {},
   "outputs": [
    {
     "name": "stdout",
     "output_type": "stream",
     "text": [
      "{'book': 'kitap', 'table': 'masa'}\n",
      "<class 'dict'>\n",
      "masa\n"
     ]
    }
   ],
   "source": [
    "sozluk= {\"book\":\"kitap\", \"table\":\"masa\"}\n",
    "print(sozluk)\n",
    "print(type(sozluk))\n",
    "print(sozluk[\"table\"])"
   ]
  },
  {
   "attachments": {},
   "cell_type": "markdown",
   "metadata": {},
   "source": [
    "- veri ekleme"
   ]
  },
  {
   "cell_type": "code",
   "execution_count": 88,
   "metadata": {},
   "outputs": [
    {
     "name": "stdout",
     "output_type": "stream",
     "text": [
      "{'book': 'kitap', 'table': 'masa', 'pencil': 'kalem'}\n"
     ]
    }
   ],
   "source": [
    "sozluk[\"pencil\"]=\"kalem\"\n",
    "print(sozluk)"
   ]
  },
  {
   "attachments": {},
   "cell_type": "markdown",
   "metadata": {},
   "source": [
    "- veri güncelleme"
   ]
  },
  {
   "cell_type": "code",
   "execution_count": 97,
   "metadata": {},
   "outputs": [
    {
     "name": "stdout",
     "output_type": "stream",
     "text": [
      "{'table': 'masa', 'pencil': 'kalem', 'book': 'başka bi kitap'}\n"
     ]
    }
   ],
   "source": [
    "sozluk[\"book\"] = \"başka bi kitap\"\n",
    "print(sozluk)"
   ]
  },
  {
   "attachments": {},
   "cell_type": "markdown",
   "metadata": {},
   "source": [
    "- veri silme"
   ]
  },
  {
   "cell_type": "code",
   "execution_count": 98,
   "metadata": {},
   "outputs": [
    {
     "name": "stdout",
     "output_type": "stream",
     "text": [
      "{'table': 'masa', 'pencil': 'kalem'}\n"
     ]
    }
   ],
   "source": [
    "del(sozluk[\"book\"])\n",
    "print(sozluk)"
   ]
  },
  {
   "attachments": {},
   "cell_type": "markdown",
   "metadata": {},
   "source": [
    "- Value'nun sözlük olması"
   ]
  },
  {
   "cell_type": "code",
   "execution_count": 105,
   "metadata": {},
   "outputs": [
    {
     "name": "stdout",
     "output_type": "stream",
     "text": [
      "{1: {'TL': 'Türk Lirasi'}}\n",
      "{'TL': 'Türk Lirasi'}\n",
      "Türk Lirasi\n"
     ]
    }
   ],
   "source": [
    "sozlukValue= {1 : {\"TL\" : \"Türk Lirasi\"}}\n",
    "print(sozlukValue)\n",
    "print(sozlukValue[1])\n",
    "print(sozlukValue[1][\"TL\"])\n"
   ]
  },
  {
   "attachments": {},
   "cell_type": "markdown",
   "metadata": {},
   "source": [
    "### Sözlük Metodları\n",
    "- keys() : sözlük keylerini verir.\n",
    "- values() : sözlük value'ları verir.\n",
    "- item() : sözlükteki key-value çiftlerini verir."
   ]
  },
  {
   "cell_type": "code",
   "execution_count": 108,
   "metadata": {},
   "outputs": [
    {
     "data": {
      "text/plain": [
       "{'table': 'masa', 'pencil': 'kalem'}"
      ]
     },
     "execution_count": 108,
     "metadata": {},
     "output_type": "execute_result"
    }
   ],
   "source": [
    "sozluk"
   ]
  },
  {
   "cell_type": "code",
   "execution_count": 107,
   "metadata": {},
   "outputs": [
    {
     "data": {
      "text/plain": [
       "dict_keys(['table', 'pencil'])"
      ]
     },
     "execution_count": 107,
     "metadata": {},
     "output_type": "execute_result"
    }
   ],
   "source": [
    "sozluk.keys()"
   ]
  },
  {
   "cell_type": "code",
   "execution_count": 112,
   "metadata": {},
   "outputs": [
    {
     "data": {
      "text/plain": [
       "dict_values(['masa', 'kalem'])"
      ]
     },
     "execution_count": 112,
     "metadata": {},
     "output_type": "execute_result"
    }
   ],
   "source": [
    "sozluk.values()"
   ]
  },
  {
   "cell_type": "code",
   "execution_count": 111,
   "metadata": {},
   "outputs": [
    {
     "data": {
      "text/plain": [
       "dict_items([('table', 'masa'), ('pencil', 'kalem')])"
      ]
     },
     "execution_count": 111,
     "metadata": {},
     "output_type": "execute_result"
    }
   ],
   "source": [
    "sozluk.items()"
   ]
  }
 ],
 "metadata": {
  "kernelspec": {
   "display_name": "Python 3",
   "language": "python",
   "name": "python3"
  },
  "language_info": {
   "codemirror_mode": {
    "name": "ipython",
    "version": 3
   },
   "file_extension": ".py",
   "mimetype": "text/x-python",
   "name": "python",
   "nbconvert_exporter": "python",
   "pygments_lexer": "ipython3",
   "version": "3.11.1"
  },
  "orig_nbformat": 4
 },
 "nbformat": 4,
 "nbformat_minor": 2
}
