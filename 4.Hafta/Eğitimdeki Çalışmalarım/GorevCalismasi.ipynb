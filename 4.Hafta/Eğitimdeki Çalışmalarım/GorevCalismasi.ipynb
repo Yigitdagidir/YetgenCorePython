{
 "cells": [
  {
   "attachments": {},
   "cell_type": "markdown",
   "metadata": {},
   "source": [
    "# Problem 3\n",
    "sn1 = {1,2,3,4,5}\n",
    "\n",
    "sn2 = {4,5,6,7,8}\n",
    "\n",
    " Verilen 2 adet küme için kesişimlerini, farklarını ve birleşimlerini bulunuz. "
   ]
  },
  {
   "cell_type": "code",
   "execution_count": null,
   "metadata": {},
   "outputs": [],
   "source": [
    "# oluşturulacak 2 küme için kullanıcıdan alınan eleman sayıları\n",
    "n1=int(input(\"İlk kümenin eleman sayısı:\"))\n",
    "n2=int(input(\"İkinci kümenin eleman sayısı:\")) \n",
    "\n",
    "# ilk küme için kümeye eleman ekleme döngüsü\n",
    "for i in range(n1):\n",
    "    eleman1=input(\"ilk küme için eleman giriniz:\")\n",
    "    # eğer sayıysa int al değilse str\n",
    "\n",
    "\n",
    "\n",
    "\n",
    "\n",
    "\n",
    "\n",
    "\n",
    "\n",
    "\n",
    "snKesisim= sn1.intersection(sn2) # ortak kesişim kümeleri\n",
    "snBirlesim= sn1.union(sn2) # birleşimleri\n",
    "snFark1= sn1.difference(sn2) # sn1'in sn2'den farkı\n",
    "snFark2= sn2.difference(sn1) # sn2'nin sn1'den farkı\n",
    "print(\"Birleşim kümesi:\",snBirlesim)\n",
    "print(\"Kesişim kümesi:\",snKesisim)\n",
    "print(\"sn1'in sn2'den farkı:\", snFark1)\n",
    "print(\"sn2'in sn1'den farkı:\", snFark2)"
   ]
  }
 ],
 "metadata": {
  "language_info": {
   "name": "python"
  },
  "orig_nbformat": 4
 },
 "nbformat": 4,
 "nbformat_minor": 2
}
