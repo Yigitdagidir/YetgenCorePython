{
 "cells": [
  {
   "cell_type": "code",
   "execution_count": 2,
   "metadata": {},
   "outputs": [
    {
     "name": "stdout",
     "output_type": "stream",
     "text": [
      "{'a', 'c', 'd', 'e', 'b'}\n",
      "5\n"
     ]
    }
   ],
   "source": [
    "N=int(input(\"ülke sayisi\"))\n",
    "ulkeler= set()\n",
    "for tekrar in range(N):\n",
    "    ulkeler.add(input(\"Ülke adı\"))\n",
    "\n",
    "print(ulkeler)\n",
    "print(len(ulkeler))"
   ]
  }
 ],
 "metadata": {
  "kernelspec": {
   "display_name": "Python 3",
   "language": "python",
   "name": "python3"
  },
  "language_info": {
   "codemirror_mode": {
    "name": "ipython",
    "version": 3
   },
   "file_extension": ".py",
   "mimetype": "text/x-python",
   "name": "python",
   "nbconvert_exporter": "python",
   "pygments_lexer": "ipython3",
   "version": "3.11.1"
  },
  "orig_nbformat": 4
 },
 "nbformat": 4,
 "nbformat_minor": 2
}
