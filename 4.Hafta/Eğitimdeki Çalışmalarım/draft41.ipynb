{
 "cells": [
  {
   "attachments": {},
   "cell_type": "markdown",
   "metadata": {},
   "source": [
    "# Problem 3\n",
    "sn1 = {1,2,3,4,5}\n",
    "\n",
    "sn2 = {4,5,6,7,8}\n",
    "\n",
    " Verilen 2 adet küme için kesişimlerini, farklarını ve birleşimlerini bulunuz. "
   ]
  },
  {
   "cell_type": "code",
   "execution_count": 28,
   "metadata": {},
   "outputs": [
    {
     "name": "stdout",
     "output_type": "stream",
     "text": [
      "ilk küme: {'boş küme'}\n",
      "ikinci küme: {'boş küme'}\n",
      "Birleşim kümesi: {'boş küme'}\n",
      "Kesişim kümesi: {'boş küme'}\n",
      "sn1'in sn2'den farkı: {'boş küme'}\n",
      "sn2'in sn1'den farkı: {'boş küme'}\n"
     ]
    }
   ],
   "source": [
    "# oluşturulacak 2 küme için kullanıcıdan alınan eleman sayıları\n",
    "n1=int(input(\"İlk kümenin eleman sayısı:\"))\n",
    "n2=int(input(\"İkinci kümenin eleman sayısı:\")) \n",
    "sn1=set()\n",
    "sn2=set()\n",
    "\n",
    "# ilk küme için kümeye eleman ekleme döngüsü\n",
    "for i in range(n1):\n",
    "    item1=input(f\"ilk küme için {i+1}. elemanı giriniz:\")\n",
    "    # eğer sayıysa int al değilse str\n",
    "    if item1.isnumeric():\n",
    "        item1=int(item1)\n",
    "    else:\n",
    "        item1=str(item1)\n",
    "    sn1.add(item1)\n",
    "\n",
    "for i in range(n2):\n",
    "    item2=input(\"ikinci küme için eleman giriniz:\")\n",
    "    \n",
    "    if item2.isnumeric():\n",
    "        item2=int(item2)\n",
    "    else:\n",
    "        item2=str(item2)\n",
    "\n",
    "    sn2.add(item2)\n",
    "\n",
    "snKesisim= sn1.intersection(sn2) # ortak kesişim kümeleri\n",
    "snBirlesim= sn1.union(sn2) # birleşimleri\n",
    "snFark1= sn1.difference(sn2) # sn1'in sn2'den farkı\n",
    "snFark2= sn2.difference(sn1) # sn2'nin sn1'den farkı\n",
    "sonuclar=[sn1,sn2,snFark1,snFark2,snBirlesim,snKesisim]\n",
    "for i in sonuclar:\n",
    "    if len(i)==0:\n",
    "        i.add(\"boş küme\")\n",
    "\n",
    "print(\"ilk küme:\",sn1)\n",
    "print(\"ikinci küme:\",sn2)\n",
    "print(\"Birleşim kümesi:\",snBirlesim)\n",
    "print(\"Kesişim kümesi:\",snKesisim)\n",
    "print(\"sn1'in sn2'den farkı:\", snFark1)\n",
    "print(\"sn2'in sn1'den farkı:\", snFark2)"
   ]
  }
 ],
 "metadata": {
  "kernelspec": {
   "display_name": "Python 3",
   "language": "python",
   "name": "python3"
  },
  "language_info": {
   "codemirror_mode": {
    "name": "ipython",
    "version": 3
   },
   "file_extension": ".py",
   "mimetype": "text/x-python",
   "name": "python",
   "nbconvert_exporter": "python",
   "pygments_lexer": "ipython3",
   "version": "3.11.1"
  },
  "orig_nbformat": 4
 },
 "nbformat": 4,
 "nbformat_minor": 2
}
