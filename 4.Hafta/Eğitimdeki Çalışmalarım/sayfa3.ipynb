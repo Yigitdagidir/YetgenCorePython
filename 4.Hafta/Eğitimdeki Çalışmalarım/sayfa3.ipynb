{
 "cells": [
  {
   "attachments": {},
   "cell_type": "markdown",
   "metadata": {},
   "source": [
    "## "
   ]
  },
  {
   "attachments": {},
   "cell_type": "markdown",
   "metadata": {},
   "source": [
    "## String metodları\n"
   ]
  },
  {
   "cell_type": "code",
   "execution_count": 34,
   "metadata": {},
   "outputs": [
    {
     "name": "stdout",
     "output_type": "stream",
     "text": [
      "iğ\n",
      "ır\n"
     ]
    }
   ],
   "source": [
    "ad=\"Yiğit\"\n",
    "soyad=\"Dağıdır\"\n",
    "print(ad[1:3]) # y \"i\" \"ğ\" \"i\" t\n",
    "print(soyad[-2:])"
   ]
  },
  {
   "cell_type": "code",
   "execution_count": 30,
   "metadata": {},
   "outputs": [
    {
     "name": "stdout",
     "output_type": "stream",
     "text": [
      "5\n",
      "7\n",
      "12\n"
     ]
    }
   ],
   "source": [
    "print(len(ad))\n",
    "print(len(soyad))\n",
    "print(len(ad+soyad))"
   ]
  },
  {
   "attachments": {},
   "cell_type": "markdown",
   "metadata": {},
   "source": [
    "- .upper()\n",
    "- .lower()\n",
    "- .capitalize()"
   ]
  },
  {
   "cell_type": "code",
   "execution_count": 36,
   "metadata": {},
   "outputs": [
    {
     "name": "stdout",
     "output_type": "stream",
     "text": [
      "YIĞIT\n"
     ]
    }
   ],
   "source": [
    "adBuyuk= ad.upper()\n",
    "print(ad)"
   ]
  },
  {
   "cell_type": "code",
   "execution_count": 39,
   "metadata": {},
   "outputs": [
    {
     "name": "stdout",
     "output_type": "stream",
     "text": [
      "adana\n",
      "Adana\n"
     ]
    }
   ],
   "source": [
    "buyuk=\"ADANA\"\n",
    "buyukKucuk= buyuk.lower()\n",
    "print(buyukKucuk)\n",
    "buyukKucukCap= buyukKucuk.capitalize() # ilk harf büyük olur.\n",
    "print(buyukKucukCap)"
   ]
  },
  {
   "attachments": {},
   "cell_type": "markdown",
   "metadata": {},
   "source": [
    "- .swapcase() : büyük harfleri küçük yapar, küçükleri büyük.\n",
    "\n",
    "- replace(\"x\",\"y\") : string içindeki x elemanlarını y elemanı yaparak değiştirir."
   ]
  },
  {
   "cell_type": "code",
   "execution_count": 40,
   "metadata": {},
   "outputs": [
    {
     "name": "stdout",
     "output_type": "stream",
     "text": [
      "Adana\n",
      "aDANA\n"
     ]
    }
   ],
   "source": [
    "print(buyukKucukCap)\n",
    "print(buyukKucukCap.swapcase())"
   ]
  },
  {
   "cell_type": "code",
   "execution_count": 44,
   "metadata": {},
   "outputs": [
    {
     "name": "stdout",
     "output_type": "stream",
     "text": [
      "Yiğit\n",
      "Yeğet\n"
     ]
    }
   ],
   "source": [
    "ad=ad.lower()\n",
    "ad=ad.capitalize()\n",
    "print(ad)\n",
    "print(ad.replace(\"i\",\"e\"))"
   ]
  },
  {
   "attachments": {},
   "cell_type": "markdown",
   "metadata": {},
   "source": [
    "- .split(\"parçalanacak değer\") : stringi parçalar\n",
    "\n",
    "- .strip() : stringin başındaki ve sonundaki boşlukları siler."
   ]
  },
  {
   "cell_type": "code",
   "execution_count": 54,
   "metadata": {},
   "outputs": [
    {
     "name": "stdout",
     "output_type": "stream",
     "text": [
      "['do you think you can tell', ' heaven from hell']\n",
      "['do', 'you', 'think', 'you', 'can', 'tell.', 'heaven', 'from', 'hell']\n"
     ]
    }
   ],
   "source": [
    "cumle= \"do you think you can tell. heaven from hell\"\n",
    "cumleSatir= cumle.split(\".\")\n",
    "cumleBosluksuz=cumle.split()\n",
    "print(cumleSatir)\n",
    "print(cumleBosluksuz)\n"
   ]
  },
  {
   "cell_type": "code",
   "execution_count": 63,
   "metadata": {},
   "outputs": [
    {
     "name": "stdout",
     "output_type": "stream",
     "text": [
      "başlangıç            ve                       bitiş\n"
     ]
    }
   ],
   "source": [
    "x= \"        başlangıç            ve                       bitiş              \"\n",
    "print(x.strip())"
   ]
  },
  {
   "attachments": {},
   "cell_type": "markdown",
   "metadata": {},
   "source": [
    "- startswith()  \n",
    "- endswith() \n",
    "\n",
    "stringin başladığı veya bittiği değere göre True ya da False döndürürler"
   ]
  },
  {
   "cell_type": "code",
   "execution_count": 78,
   "metadata": {},
   "outputs": [
    {
     "name": "stdout",
     "output_type": "stream",
     "text": [
      "Yiğit\n",
      "True\n",
      "False\n",
      "rastgele.sonda boşluk var. \n",
      "True\n"
     ]
    }
   ],
   "source": [
    "print(ad)\n",
    "print(ad.startswith(\"Y\"))\n",
    "print(ad.startswith(\"y\"))\n",
    "rastgele=\"rastgele.sonda boşluk var. \" # sonda boşluk var.\n",
    "print(rastgele)\n",
    "print(rastgele.endswith(\" \"))"
   ]
  },
  {
   "attachments": {},
   "cell_type": "markdown",
   "metadata": {},
   "source": [
    "- isalpha() : stringin tüm karakterleri alfabetik(harf) ise True değilse False\n",
    "\n",
    "- isdigit() : stringin tüm karakterleri rakamsa True değilse False\n",
    "\n",
    "isnumeric() de kullanılabilir. ek olarak kesirli sayılar vs. de kapsama alınır."
   ]
  },
  {
   "cell_type": "code",
   "execution_count": 79,
   "metadata": {},
   "outputs": [
    {
     "name": "stdout",
     "output_type": "stream",
     "text": [
      "True\n"
     ]
    }
   ],
   "source": [
    "print(ad.isalpha())"
   ]
  },
  {
   "cell_type": "code",
   "execution_count": 80,
   "metadata": {},
   "outputs": [
    {
     "name": "stdout",
     "output_type": "stream",
     "text": [
      "True\n"
     ]
    }
   ],
   "source": [
    "sayiDegeri= \"095381950\"\n",
    "print(sayiDegeri.isdigit()) "
   ]
  }
 ],
 "metadata": {
  "kernelspec": {
   "display_name": "Python 3",
   "language": "python",
   "name": "python3"
  },
  "language_info": {
   "name": "python",
   "version": "3.11.1"
  },
  "orig_nbformat": 4
 },
 "nbformat": 4,
 "nbformat_minor": 2
}
