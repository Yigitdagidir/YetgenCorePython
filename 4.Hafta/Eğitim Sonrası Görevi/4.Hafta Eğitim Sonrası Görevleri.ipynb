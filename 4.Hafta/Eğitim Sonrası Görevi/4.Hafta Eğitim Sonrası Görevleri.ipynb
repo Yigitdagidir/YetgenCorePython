{
 "cells": [
  {
   "cell_type": "markdown",
   "metadata": {},
   "source": [
    "# Problem 1\n",
    "`ogrenciler` adında bir sözlük oluşturunuz. Kullanıcıdan döngü yardımıyla 3 öğrenci için veri girmesini isteyerek öğrencilerin sırasıyla okul numarası, isim, soy isim, telefon numarası ve doğum tarihi bilgilerini alınız. Aldığınız öğrenci bilgilerini yine aynı döngü yardımıyla `ogrenciler` adındaki sözlükte saklayınız. Daha sonra öğrenci bilgilerinin bulunduğu sözlük yapısını ekrana bastırınız.\n",
    "\n"
   ]
  },
  {
   "cell_type": "code",
   "execution_count": 137,
   "metadata": {},
   "outputs": [
    {
     "name": "stdout",
     "output_type": "stream",
     "text": [
      "{'65': ['yigit', 'dagidir', '0530 543 2211', '2004'], '105': ['mehmet', 'aslan', '0580 555 4422', '2003'], '5756': ['Çınar', 'Durmuş', '0520 333 6688', '2002']}\n"
     ]
    }
   ],
   "source": [
    "# 1.Problemin Çözümünü Buraya Yazınız\n",
    "ogrenciler=dict()\n",
    "for i in range(3):\n",
    "    okulNo=input(\"Okul no giriniz:\")\n",
    "    isim=input(\"isim giriniz:\")\n",
    "    soyisim=input(\"soyisim giriniz:\")\n",
    "    telNo=input(\"telefon numarası giriniz:\")\n",
    "    dogumTarihi=input(\"Doğum tarihi giriniz:\")\n",
    "    ogrenciler[okulNo]=[isim,soyisim,telNo,dogumTarihi]\n",
    "print(ogrenciler)"
   ]
  },
  {
   "attachments": {},
   "cell_type": "markdown",
   "metadata": {},
   "source": [
    "# Problem 2\n",
    "\n",
    "### a - Biraz ısınarak başlayalım!\n",
    "\n",
    "```\n",
    "numbers = [5,10,10,15,15,15,20,20,20,20]\n",
    "```\n",
    "\n",
    "Yukarıda `numbers` adında 10 elemanlı bir liste verilmiştir. Bu listenin her elemanını kontrol eden ve tekrar eden elemanları bir kez olacak şekilde başka bir listeye kopyalayan bir program yazınız. Son olarak oluşturduğunuz listeyi ekrana bastırınız.\n",
    "\n",
    "\n",
    "\n",
    "\n",
    "```\n",
    ">Output\n",
    "[5, 10, 15, 20]\n",
    "```\n"
   ]
  },
  {
   "cell_type": "code",
   "execution_count": 18,
   "metadata": {},
   "outputs": [
    {
     "name": "stdout",
     "output_type": "stream",
     "text": [
      "[5, 10, 15, 20]\n"
     ]
    }
   ],
   "source": [
    "# 2.Problemin a Şıkkının Çözümünü Buraya Yazınız\n",
    "numbers = [5,10,10,15,15,15,20,20,20,20]\n",
    "numbers_only=list()\n",
    "for i in numbers:\n",
    "    if i not in numbers_only:\n",
    "        numbers_only.append(i)\n",
    "print(numbers_only)\n"
   ]
  },
  {
   "cell_type": "markdown",
   "metadata": {},
   "source": [
    "### 🌶️ b) Hadi işi biraz daha zorlaştıralım! \n",
    "\n",
    "\n",
    "Şimdiyse senden `numbers` isimli listedeki tekrar eden elemanları `repeatNumbers` adındaki listeye; tekrar etmeyen elemanları `uniqueNumbers`adındaki listeye kopyalayan yazmanı ve listeleri ekrana bastırmanı bekliyoruz\n",
    "\n",
    "```\n",
    ">Output\n",
    "Tekrar Eden Elemanlar: [10, 10, 15, 15, 15, 20, 20, 20, 20]\n",
    "Tekrar Etmeyen Elemanlar: [5]\n",
    "```"
   ]
  },
  {
   "cell_type": "code",
   "execution_count": 141,
   "metadata": {},
   "outputs": [
    {
     "name": "stdout",
     "output_type": "stream",
     "text": [
      "Tekrar eden elemanlar: [5]\n",
      "Tekrar etmeyen elemanlar: [10, 10, 15, 15, 15, 20, 20, 20, 20]\n"
     ]
    }
   ],
   "source": [
    "# 2.Problemin b Şıkkının Çözümünü Buraya Yazınız\n",
    "numbers = [5,10,10,15,15,15,20,20,20,20]\n",
    "uniqueNumbers=list()\n",
    "repeatNumbers= list()\n",
    "for i in numbers:\n",
    "    rep= numbers.count(i)\n",
    "    if rep==1:\n",
    "        uniqueNumbers.append(i)\n",
    "    else:\n",
    "        repeatNumbers.append(i)\n",
    "print(\"Tekrar eden elemanlar:\",uniqueNumbers)\n",
    "print(\"Tekrar etmeyen elemanlar:\",repeatNumbers)"
   ]
  },
  {
   "attachments": {},
   "cell_type": "markdown",
   "metadata": {},
   "source": [
    "# Problem 3\n",
    "sn1 = {1,2,3,4,5}\n",
    "\n",
    "sn2 = {4,5,6,7,8}\n",
    "\n",
    " Verilen 2 adet küme için kesişimlerini, farklarını ve birleşimlerini bulunuz. "
   ]
  },
  {
   "cell_type": "code",
   "execution_count": 4,
   "metadata": {},
   "outputs": [
    {
     "name": "stdout",
     "output_type": "stream",
     "text": [
      "Birleşim kümesi: {1, 2, 3, 4, 5, 6, 7, 8}\n",
      "Kesişim kümesi: {4, 5}\n",
      "sn1'in sn2'den farkı: {1, 2, 3}\n",
      "sn2'in sn1'den farkı: {8, 6, 7}\n"
     ]
    }
   ],
   "source": [
    "# 3.Problemin Çözümünü Buraya Yazınız\n",
    "sn1 = {1,2,3,4,5}\n",
    "sn2 = {4,5,6,7,8}\n",
    "snKesisim= sn1.intersection(sn2) # ortak kesişim kümeleri\n",
    "snBirlesim= sn1.union(sn2) # birleşimleri\n",
    "snFark1= sn1.difference(sn2) # sn1'in sn2'den farkı\n",
    "snFark2= sn2.difference(sn1) # sn2'nin sn1'den farkı\n",
    "print(\"Birleşim kümesi:\",snBirlesim)\n",
    "print(\"Kesişim kümesi:\",snKesisim)\n",
    "print(\"sn1'in sn2'den farkı:\", snFark1)\n",
    "print(\"sn2'in sn1'den farkı:\", snFark2)\n"
   ]
  },
  {
   "cell_type": "code",
   "execution_count": null,
   "metadata": {},
   "outputs": [],
   "source": [
    "# oluşturulacak 2 küme için kullanıcıdan alınan eleman sayıları\n",
    "n1=int(input(\"İlk kümenin eleman sayısı:\"))\n",
    "n2=int(input(\"İkinci kümenin eleman sayısı:\")) \n",
    "sn1=set()\n",
    "sn2=set()\n",
    "\n",
    "# ilk küme için kümeye eleman ekleme döngüsü\n",
    "for i in range(n1):\n",
    "    item1=input(f\"ilk küme için {i+1}. elemanı giriniz:\")\n",
    "    # eğer sayıysa int al değilse str\n",
    "    if item1.isnumeric():\n",
    "        item1=int(item1)\n",
    "    else:\n",
    "        item1=str(item1)\n",
    "    sn1.add(item1)\n",
    "\n",
    "for i in range(n2):\n",
    "    item2=input(\"ikinci küme için eleman giriniz:\")\n",
    "    \n",
    "    if item2.isnumeric():\n",
    "        item2=int(item2)\n",
    "    else:\n",
    "        item2=str(item2)\n",
    "\n",
    "    sn2.add(item2)\n",
    "\n",
    "snKesisim= sn1.intersection(sn2) # ortak kesişim kümeleri\n",
    "snBirlesim= sn1.union(sn2) # birleşimleri\n",
    "snFark1= sn1.difference(sn2) # sn1'in sn2'den farkı\n",
    "snFark2= sn2.difference(sn1) # sn2'nin sn1'den farkı\n",
    "sonuclar=[sn1,sn2,snFark1,snFark2,snBirlesim,snKesisim]\n",
    "for i in sonuclar:\n",
    "    if len(i)==0:\n",
    "        i.add(\"boş küme\")\n",
    "\n",
    "print(\"ilk küme:\",sn1)\n",
    "print(\"ikinci küme:\",sn2)\n",
    "print(\"Birleşim kümesi:\",snBirlesim)\n",
    "print(\"Kesişim kümesi:\",snKesisim)\n",
    "print(\"sn1'in sn2'den farkı:\", snFark1)\n",
    "print(\"sn2'in sn1'den farkı:\", snFark2)"
   ]
  },
  {
   "cell_type": "markdown",
   "metadata": {},
   "source": [
    "# Problem 4\n",
    "\n",
    "Buradaki işlemlerimizin tamamı stringler içindir. Aşağıda verilecek olan metodlar için kendinizin örnek yaratması gerekmektedir. \n",
    "\n",
    "Örneğin `upper` için `string` değişkeni oluştururken` k = \"BAC\"` şeklinde oluşturmayınız. Bunun yerine k değişkenini `k = \"bac`\" şeklinde oluşturmanız `upper` metodundaki değişimi görebilmeniz için daha iyi olacaktır.\n",
    "\n",
    "Bütün metodlardaki değişimin gözle görülür şekilde değişimi beklenmektedir.\n",
    "\n",
    "\n",
    "1- capitalize(), lower(), upper(), swapcase(), title(), replace()\n",
    "\n",
    "2- endswith(), startswith(), find(), index(), count()\n",
    "\n",
    "3- split(), strip(), join(), islower(), isalpha(), isdigit()\n",
    "\n",
    "\n",
    "Yukarıdaki `string` metodlarındaki değişimleri görebildiğimiz bir program yazınız.\n"
   ]
  },
  {
   "cell_type": "code",
   "execution_count": 136,
   "metadata": {},
   "outputs": [
    {
     "name": "stdout",
     "output_type": "stream",
     "text": [
      "Pencil is life\n",
      "Pencil is life ** capitalize()\n",
      "pENCIL IS LIFE ** swapcase()\n",
      "pencil is life ** lower()\n",
      "PENCIL IS LIFE ** upper()\n",
      "PENKIL IS LIFE ** replace('C','K')\n",
      "Penkil Is Life ** title()\n",
      "--------------------\n",
      "Selena\n",
      "True ** endswith('a')\n",
      "False ** startswith('s')\n",
      "True ** startswith('S')\n",
      "1 ** index('e')\n",
      "-1 ** find('k')\n",
      "1 ** find('e')\n",
      "2 ** count('e')\n",
      "--------------------\n",
      "'      start and end       '  kesme işareti içinde\n",
      "start and end ** strip()\n",
      "False ** isalpha()\n",
      "['start', 'and', 'end'] ** split()\n",
      "startandend ** ''.join(sentence)\n",
      "True ** isalpha()\n",
      "False ** isdigit()\n",
      "True ** islower()\n"
     ]
    }
   ],
   "source": [
    "# 4.Problemin Çözümünü Buraya Yazınız\n",
    "word=\"Pencil is life\"\n",
    "print(word)\n",
    "word=word.capitalize()\n",
    "print(word, \"** capitalize()\")\n",
    "word=word.swapcase()\n",
    "print(word, \"** swapcase()\")\n",
    "word=word.lower()\n",
    "print(word, \"** lower()\")\n",
    "word=word.upper()\n",
    "print(word,\"** upper()\")\n",
    "word=word.replace(\"C\",\"K\")\n",
    "print(word,\"** replace('C','K')\")\n",
    "word=word.title()\n",
    "print(word.title(),\"** title()\")\n",
    "print(\"--------------------\")\n",
    "\n",
    "word=\"Selena\"\n",
    "print(word)\n",
    "print(word.endswith(\"a\"),\"** endswith('a')\")\n",
    "print(word.startswith(\"s\"),\"** startswith('s')\")\n",
    "print(word.startswith(\"S\"),\"** startswith('S')\")\n",
    "print(word.index(\"e\"),\"** index('e')\")\n",
    "print(word.find(\"k\"),\"** find('k')\")\n",
    "print(word.find(\"e\"),\"** find('e')\")\n",
    "print(word.count(\"e\"),\"** count('e')\")\n",
    "\n",
    "print(\"--------------------\")\n",
    "sentence=\"      start and end       \"\n",
    "print(f\"'{sentence}'  kesme işareti içinde\")\n",
    "sentence=sentence.strip()\n",
    "print(sentence,\"** strip()\")\n",
    "print(sentence.isalpha(),\"** isalpha()\")\n",
    "sentence=sentence.split()\n",
    "print(sentence,\"** split()\")\n",
    "sentence= \"\".join(sentence)\n",
    "print(sentence,\"** ''.join(sentence)\")\n",
    "print(sentence.isalpha(),\"** isalpha()\")\n",
    "print(sentence.isdigit(),\"** isdigit()\")\n",
    "print(sentence.islower(),\"** islower()\")"
   ]
  }
 ],
 "metadata": {
  "kernelspec": {
   "display_name": "Python 3.10.5 64-bit",
   "language": "python",
   "name": "python3"
  },
  "language_info": {
   "codemirror_mode": {
    "name": "ipython",
    "version": 3
   },
   "file_extension": ".py",
   "mimetype": "text/x-python",
   "name": "python",
   "nbconvert_exporter": "python",
   "pygments_lexer": "ipython3",
   "version": "3.11.1"
  },
  "orig_nbformat": 4,
  "vscode": {
   "interpreter": {
    "hash": "5026d2d6e7aaaaba093def813beadff083d8733e4a511af01735cbabd156995d"
   }
  }
 },
 "nbformat": 4,
 "nbformat_minor": 2
}
