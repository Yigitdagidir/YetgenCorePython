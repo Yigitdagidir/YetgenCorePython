{
 "cells": [
  {
   "attachments": {},
   "cell_type": "markdown",
   "metadata": {},
   "source": [
    "## Hata Yönetimi\n",
    "- Python programlarında bazen bir değişkenin tanımlanmadan kullanılmaya çalıştırılması , bazen de yapılamayacak bir aritmetik\n",
    "işlemin yapılması Pythonda hatalara yol açar. \n",
    "\n",
    "- Ancak bu istisnai durumlarda, hataların türüne göre programlarımızı daha güvenli bir\n",
    "şekilde yazabiliriz.Yani hata çıkarabilecek kodlarımızı öngörerek bu hataları programlarımızda yakalayabiliriz."
   ]
  },
  {
   "cell_type": "code",
   "execution_count": 2,
   "metadata": {},
   "outputs": [
    {
     "ename": "NameError",
     "evalue": "name 'a' is not defined",
     "output_type": "error",
     "traceback": [
      "\u001b[1;31m---------------------------------------------------------------------------\u001b[0m",
      "\u001b[1;31mNameError\u001b[0m                                 Traceback (most recent call last)",
      "Cell \u001b[1;32mIn[2], line 1\u001b[0m\n\u001b[1;32m----> 1\u001b[0m \u001b[39mprint\u001b[39m(a)\n",
      "\u001b[1;31mNameError\u001b[0m: name 'a' is not defined"
     ]
    }
   ],
   "source": [
    "print(a)"
   ]
  },
  {
   "attachments": {},
   "cell_type": "markdown",
   "metadata": {},
   "source": [
    "## try , except blokları\n",
    "- try ,except bloklarının yapısı şu şekildedir;\n",
    "```\n",
    "try:\n",
    "\n",
    "    Hata çıkarabilecek kodlar buraya yazılıyor.\n",
    "    Eğer hata çıkarsa program uygun olan except bloğuna girecek.\n",
    "    Hata oluşursa try bloğunun geri kalanındaki işlemler çalışmayacak\n",
    "    \n",
    "except Hata1:\n",
    "    Hata1 oluştuğunda burası çalışacak\n",
    "except Hata2:\n",
    "    Hata2 oluştuğunda burası çalışacak\n",
    "\n",
    "```"
   ]
  },
  {
   "cell_type": "code",
   "execution_count": 8,
   "metadata": {},
   "outputs": [
    {
     "name": "stdout",
     "output_type": "stream",
     "text": [
      "hata var. tekrar bak\n"
     ]
    }
   ],
   "source": [
    "try:\n",
    "    a=int(\"abcd\")\n",
    "    print(\"program burada\")\n",
    "except:\n",
    "    print(\"hata var. tekrar bak\")\n",
    "    "
   ]
  },
  {
   "cell_type": "code",
   "execution_count": 14,
   "metadata": {},
   "outputs": [
    {
     "name": "stdout",
     "output_type": "stream",
     "text": [
      "hata var\n",
      "bloklar sona erdi\n"
     ]
    }
   ],
   "source": [
    "try:\n",
    "    a=int(\"abcd\")\n",
    "except ValueError:\n",
    "    print(\"hata var\")\n",
    "print(\"bloklar sona erdi\")\n"
   ]
  },
  {
   "cell_type": "code",
   "execution_count": 26,
   "metadata": {},
   "outputs": [
    {
     "name": "stdout",
     "output_type": "stream",
     "text": [
      "sayı sıfıra bölünemez\n",
      "lütfen tekrar deneyiniz ve bu sefer sayı giriniz.\n",
      "lütfen tekrar deneyiniz ve bu sefer sayı giriniz.\n",
      "lütfen tekrar deneyiniz ve bu sefer sayı giriniz.\n",
      "lütfen tekrar deneyiniz ve bu sefer sayı giriniz.\n",
      "lütfen tekrar deneyiniz ve bu sefer sayı giriniz.\n",
      "5.0\n"
     ]
    }
   ],
   "source": [
    "while True:\n",
    "    try:\n",
    "        a=int(input(\"1.sayi:\"))\n",
    "        b=int(input(\"2.sayi:\"))\n",
    "        print(a/ b)\n",
    "        break\n",
    "    except ValueError:\n",
    "        print(\"lütfen tekrar deneyiniz ve bu sefer sayı giriniz.\")\n",
    "\n",
    "    except ZeroDivisionError:\n",
    "        print(\"sayı sıfıra bölünemez\")\n",
    "\n"
   ]
  },
  {
   "cell_type": "code",
   "execution_count": 31,
   "metadata": {},
   "outputs": [
    {
     "name": "stdout",
     "output_type": "stream",
     "text": [
      "value ya da zero div hatası\n"
     ]
    }
   ],
   "source": [
    "try:\n",
    "    a=int(input(\"1.sayi:\"))\n",
    "    b=int(input(\"2.sayi:\"))\n",
    "    print(a/ b)\n",
    "except (ValueError , ZeroDivisionError):\n",
    "    print(\"value ya da zero div hatası\")\n",
    "\n"
   ]
  },
  {
   "attachments": {},
   "cell_type": "markdown",
   "metadata": {},
   "source": [
    "## try-except-else\n",
    "- ek olarak else bloğu:  \n",
    "\n",
    "- exceptionlar çalışmazsa, yani hata olmazsa çalışır"
   ]
  },
  {
   "cell_type": "code",
   "execution_count": 36,
   "metadata": {},
   "outputs": [
    {
     "name": "stdout",
     "output_type": "stream",
     "text": [
      "5.0\n",
      "else\n"
     ]
    }
   ],
   "source": [
    "try:\n",
    "    a=int(input(\"1.sayi:\"))\n",
    "    b=int(input(\"2.sayi:\"))\n",
    "    print(a/ b)\n",
    "except (ValueError , ZeroDivisionError):\n",
    "    print(\"value ya da zero div hatası\")\n",
    "else:\n",
    "    print(\"else\")\n",
    "\n"
   ]
  },
  {
   "attachments": {},
   "cell_type": "markdown",
   "metadata": {},
   "source": [
    "## finally\n",
    "![](https://files.realpython.com/media/try_except_else_finally.a7fac6c36c55.png)"
   ]
  },
  {
   "cell_type": "code",
   "execution_count": 40,
   "metadata": {},
   "outputs": [
    {
     "name": "stdout",
     "output_type": "stream",
     "text": [
      "hata oluştu\n",
      "0\n"
     ]
    }
   ],
   "source": [
    "try:\n",
    "    liste=list(range(100))\n",
    "    print(liste[101])\n",
    "except :\n",
    "    liste.clear()\n",
    "    print(\"hata oluştu\")\n",
    "finally:\n",
    "    \n",
    "    print(len(liste))"
   ]
  },
  {
   "attachments": {},
   "cell_type": "markdown",
   "metadata": {},
   "source": [
    "## Hata Fırlatma (raise)\n",
    "- hataları fırlatmak için raise kullanılır\n",
    "- raise hataAdi(opsiyonel hata mesajı)"
   ]
  },
  {
   "cell_type": "code",
   "execution_count": 52,
   "metadata": {},
   "outputs": [
    {
     "name": "stdout",
     "output_type": "stream",
     "text": [
      "programda hata oldu\n"
     ]
    }
   ],
   "source": [
    "def ters(x):\n",
    "    if type(x) !=str:\n",
    "        \n",
    "        raise ValueError(\"lütfen doğru bir harf giriniz\")\n",
    "    else:\n",
    "        return x[::-1]\n",
    "\n",
    "try:\n",
    "    print(ters(12))\n",
    "except ValueError:\n",
    "    print(\"programda hata oldu\")\n"
   ]
  },
  {
   "cell_type": "code",
   "execution_count": 53,
   "metadata": {},
   "outputs": [
    {
     "ename": "ValueError",
     "evalue": "lütfen doğru bir harf giriniz",
     "output_type": "error",
     "traceback": [
      "\u001b[1;31m---------------------------------------------------------------------------\u001b[0m",
      "\u001b[1;31mValueError\u001b[0m                                Traceback (most recent call last)",
      "Cell \u001b[1;32mIn[53], line 1\u001b[0m\n\u001b[1;32m----> 1\u001b[0m ters(\u001b[39m12\u001b[39;49m)\n",
      "Cell \u001b[1;32mIn[52], line 4\u001b[0m, in \u001b[0;36mters\u001b[1;34m(x)\u001b[0m\n\u001b[0;32m      1\u001b[0m \u001b[39mdef\u001b[39;00m \u001b[39mters\u001b[39m(x):\n\u001b[0;32m      2\u001b[0m     \u001b[39mif\u001b[39;00m \u001b[39mtype\u001b[39m(x) \u001b[39m!=\u001b[39m\u001b[39mstr\u001b[39m:\n\u001b[1;32m----> 4\u001b[0m         \u001b[39mraise\u001b[39;00m \u001b[39mValueError\u001b[39;00m(\u001b[39m\"\u001b[39m\u001b[39mlütfen doğru bir harf giriniz\u001b[39m\u001b[39m\"\u001b[39m)\n\u001b[0;32m      5\u001b[0m     \u001b[39melse\u001b[39;00m:\n\u001b[0;32m      6\u001b[0m         \u001b[39mreturn\u001b[39;00m x[::\u001b[39m-\u001b[39m\u001b[39m1\u001b[39m]\n",
      "\u001b[1;31mValueError\u001b[0m: lütfen doğru bir harf giriniz"
     ]
    }
   ],
   "source": [
    "ters(12)"
   ]
  }
 ],
 "metadata": {
  "kernelspec": {
   "display_name": "Python 3",
   "language": "python",
   "name": "python3"
  },
  "language_info": {
   "codemirror_mode": {
    "name": "ipython",
    "version": 3
   },
   "file_extension": ".py",
   "mimetype": "text/x-python",
   "name": "python",
   "nbconvert_exporter": "python",
   "pygments_lexer": "ipython3",
   "version": "3.11.1"
  },
  "orig_nbformat": 4
 },
 "nbformat": 4,
 "nbformat_minor": 2
}
