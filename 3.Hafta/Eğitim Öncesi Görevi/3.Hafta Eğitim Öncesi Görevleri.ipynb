{
  "cells": [
    {
      "cell_type": "markdown",
      "metadata": {
        "id": "tsD4YVAe_Te2"
      },
      "source": [
        "# Problem 1\n",
        "Bir sayının 7'ye bölünebilir olup olmadığını kontrol etmek \n",
        "için bir program yazın.\n",
        "\n",
        "İpucu: Mod operatörünü (%) kullanabilirsiniz."
      ]
    },
    {
      "cell_type": "code",
      "execution_count": null,
      "metadata": {
        "id": "NGjvNwKx_Te7"
      },
      "outputs": [],
      "source": [
        "# 1.Problemin Çözümünü Buraya Yazınız\n",
        "\n",
        "sayi= int(input(\"Bir sayı giriniz:\"))\n",
        "if sayi%7==0:\n",
        "    print(\"bu sayi 7 ile tam bölünür.\")\n",
        "else:\n",
        "    print(\"bu sayi 7 ile bölünemez\")"
      ]
    },
    {
      "cell_type": "markdown",
      "metadata": {
        "id": "Kg3qiBAI_Te8"
      },
      "source": [
        "# Problem 2\n",
        "Kullanıcıdan vize ve final notu isteyin. Girilen vize notunun %40’ı ve \n",
        "girilen finalnotunun ise %60’ı alınarak yıl sonu not ortalaması hesaplanacaktır. \n",
        "\n",
        "Bu not ortalaması eğer 85 ve üzeri ise AA, \n",
        "\n",
        "75 ve 85 arasında ise BA, \n",
        "\n",
        "70 ve 75 arasında ise BB, \n",
        "\n",
        "65 ve 70 arasında ise CB,\n",
        "\n",
        "60 ve 65 arasında ise CC,\n",
        "\n",
        "55 ve 60 arasında ise DC,\n",
        "\n",
        "50 ve 55 arasında ise DD olarak hesaplanacaktır. \n",
        "\n",
        "Bu öğrencinin yıl sonu toplam notu 50’nin altında ise FF ile dersten kalacaktır. \n",
        "\n",
        "Ayrıca öğrencinin final notu 50’nin altında ise direkt FF ile kalacaktır."
      ]
    },
    {
      "cell_type": "code",
      "execution_count": 1,
      "metadata": {
        "id": "MXTtCxI1_Te8"
      },
      "outputs": [
        {
          "name": "stdout",
          "output_type": "stream",
          "text": [
            "geçtiniz.vize: 80, final:60. ortalama: 68.0 notunuz: CB\n"
          ]
        }
      ],
      "source": [
        "# 2.Problemin Çözümünü Buraya Yazınız\n",
        "\n",
        "vize=int(input(\"vize notu:\"))\n",
        "final=int(input(\"final notu:\"))\n",
        "ort= (vize*0,4)+(final*0,6)\n",
        "if ort>100:\n",
        "    print(\"ortalama en fazla 100 olabilir. lütfen notları tekrar giriniz.\")\n",
        "elif ort>=85:\n",
        "    puan=\"AA\"\n",
        "elif 75<=ort<85:\n",
        "    puan=\"BA\"\n",
        "elif 65<=ort<70:\n",
        "    puan=\"CB\"\n",
        "elif 60<= ort<65:\n",
        "    puan=\"CC\"\n",
        "elif 55<=ort<60:\n",
        "    puan=\"DC\"\n",
        "elif 50<= ort<55:\n",
        "    puan=\"DD\"\n",
        "elif ort<50:\n",
        "    puan=\"FF\"\n",
        "elif final<50:\n",
        "    puan=\"FF\"\n",
        "\n",
        "if puan==\"FF\":\n",
        "    print(\"kaldınız\")\n",
        "else:\n",
        "    print(f\"geçtiniz.vize: {vize}, final:{final}. ortalama: {ort} notunuz: {puan}\")"
      ]
    },
    {
      "cell_type": "markdown",
      "metadata": {
        "id": "tAoRYCTC_Te8"
      },
      "source": [
        "# Problem 3\n",
        "İki YetGenli Zirve'de karşılaşıyorlar. Birbirlerini tanımak için sorular soruyorlar. Birbirlerine yaşlarını soruyorlar. Akıllarına bir Python programı yazıp, yaşlarını ve isimlerini giriyorlar. Büyük olanın yaşını ekrana yazdıran programı yazıyorlar. Sende bu iki YetGenli'ye destek olmak ister misin?\n",
        "\n",
        "```\n",
        "Birinci YetGenlinin ismi: Ahmet\n",
        "Birinci YetGenlinin yaşı : 20\n",
        "İkinci YetGenlinin ismi: Mehmet\n",
        "İkinci YetGenlinin yaşı : 25\n",
        "Mehmet'in yaşı daha büyük ve yaşı 25'tir.\n",
        "```"
      ]
    },
    {
      "cell_type": "code",
      "execution_count": null,
      "metadata": {
        "id": "bPjE8W0i_Te8"
      },
      "outputs": [],
      "source": [
        "# 3.Problemin Çözümünü Buraya Yazınız\n",
        "birinciAd=input(\"Birinci yetgenlinin adı:\")\n",
        "ikinciAd=input(\"İkinci yetgenlinin adı:\")\n",
        "birinciYas=int(input(\"Birinci yetgenlinin yaşı:\"))\n",
        "ikinciYas=int(input(\"İkinci yetgenlinin yaşı:\"))\n",
        "if birinciYas>ikinciYas:\n",
        "    print(f\"{birinciAd}'in yaşı daha büyük ve yaşı {birinciYas}'tir.\")\n",
        "elif birinciYas==ikinciYas:\n",
        "    print(f\" {birinciAd} ve {ikinciAd}'in yaşları eşit ve {birinciYas}'tir.\")\n",
        "else:\n",
        "     print(f\"{ikinciAd}'in yaşı daha büyük ve yaşı {ikinciYas}'tir.\")"
      ]
    },
    {
      "cell_type": "markdown",
      "metadata": {
        "id": "zBVv8Tyg_Te9"
      },
      "source": [
        "# Problem 4\n",
        "Pandemi döneminde AVM'lerde ateş ölçümü yapılıyor. AVM'ye giren kişinin ateş ölçümü 37.5 derecenin altında ise girişe izin veriliyor. 37.5 derecenin üstünde ise girişe izin verilmiyor. AVM'ye girişe izin verilip verilmediğini ekrana yazdıran bir program yazın.\n",
        "\n",
        "Program sonunda şöyle bir çıktı elde etmelisiniz:\n",
        "\n",
        "```\n",
        "Ateşiniz 37.5 derece. AVM'ye girebilirsin! Maske takmayı unutma!\n",
        "Ateşiniz 37.6 derece. AVM'ye giremezsin! Hemen evine dön!\n",
        "```"
      ]
    },
    {
      "cell_type": "code",
      "execution_count": null,
      "metadata": {
        "id": "TSAXs8et_Te9"
      },
      "outputs": [],
      "source": [
        "# 4.Problemin Çözümünü Buraya Yazınız\n",
        "ates=float(input(\"ateş derecesi:\"))\n",
        "if ates<=37.5:\n",
        "    print(f\"Ateşiniz {ates} derece. AVM'ye girebilirsiniz.\")\n",
        "else:\n",
        "    print(f\" Ateşiniz {ates} derece. AVM'ye giremezsiniz!\")\n"
      ]
    },
    {
      "cell_type": "markdown",
      "metadata": {
        "id": "6AEkZrDt_Te9"
      },
      "source": [
        "# Problem 5\n",
        "YetGen bir spor kulübüyle sponsorluk anlaşması yapıyor. Kulüp, sponsorluk anlaşmasına göre her YetGen liderinin beden kitle indeksini hesaplamak istiyor. Spor kulübü, beden kitle indeksini hesaplamak için YetGen Jump Python liderlerinden Berkcan ve Ahmet'i arıyor. Berkcan ve Ahmet, kulübe yardımcı olmak için bir Python programı yazıyorlar. Sende bu iki YetGen liderine destek olmak ister misin?\n",
        "\n",
        "Kullanıcıdan alınan boy ve kilo değerlerine göre beden kitle indeksini hesaplayın ve şu kurallara göre ekrana şu yazıları yazdırın.\n",
        "\n",
        "\n",
        "Beden Kitle İndeksi, kişinin ağırlığının (kg olarak) boyunun karesine (m olarak) bölünmesiyle hesaplanır.\n",
        "\n",
        "\n",
        "```\n",
        " BKİ 18.5'un altındaysa -------> Zayıf\n",
        "\n",
        " BKİ 18.5 ile 25 arasındaysa ------> Normal\n",
        "\n",
        " BKİ 25 ile 30 arasındaysa --------> Fazla Kilolu\n",
        "\n",
        " BKİ 30'un üstündeyse -------------> Obez\n",
        "```\n",
        "\n"
      ]
    },
    {
      "cell_type": "code",
      "execution_count": 12,
      "metadata": {
        "id": "t-XPI_u0_Te-"
      },
      "outputs": [
        {
          "name": "stdout",
          "output_type": "stream",
          "text": [
            "Beden kitle indeksine göre sonucunuz 27.78 değeri ile Fazla Kilolu'dir \n"
          ]
        }
      ],
      "source": [
        "# 5.Problemin Çözümünü Buraya Yazınız\n",
        "boy=float(input(\"Boyunuzu metre cinsinden giriniz:\"))\n",
        "kilo=float(input(\"Kilonuzu kg cinsinden giriniz:\"))\n",
        "bki= round(kilo/boy**2,2)\n",
        "if bki>=30:\n",
        "    sonuc=\"Obez\"\n",
        "elif 25<=bki<30:\n",
        "    sonuc= \"Fazla Kilolu\"\n",
        "elif 18.5<=bki<25:\n",
        "    sonuc=\"Normal\"\n",
        "elif bki<18.5:\n",
        "    sonuc=\"Zayıf\"\n",
        "print(f\"Beden kitle indeksine göre sonucunuz {bki} değeri ile {sonuc}'dir \")"
      ]
    },
    {
      "cell_type": "markdown",
      "metadata": {
        "id": "oFsvQyaO_Te-"
      },
      "source": [
        "# Problem 6\n",
        "Kullanıcıdan isim, yaş ve eğitim bilgilerini isteyip ehliyet alabilme  durumunu kontrol ediniz. \n",
        "\n",
        "Ehliyet alma koşulu en az 18 yaşında ve eğitim durumu lise ya da üniversite olmalıdır. "
      ]
    },
    {
      "cell_type": "code",
      "execution_count": 25,
      "metadata": {
        "id": "Tu2mcgco_Te-"
      },
      "outputs": [
        {
          "name": "stdout",
          "output_type": "stream",
          "text": [
            "Ehliyet alabilirsiniz\n"
          ]
        }
      ],
      "source": [
        "# 6.Problemin Çözümünü Buraya Yazınız\n",
        "isim=input(\"İsim:\")\n",
        "yas=float(input(\"Yaş:\"))\n",
        "egitim=input(\"Eğitim durumu:\")\n",
        "if (egitim==\"lise\" or egitim==\"üniversite\") and yas>=18:\n",
        "    print(\"Ehliyet alabilirsiniz\")\n",
        "else:\n",
        "    print(\"Ehliyet alamazsınız. \")"
      ]
    },
    {
      "cell_type": "markdown",
      "metadata": {
        "id": "eUkxVSAE_Te_"
      },
      "source": [
        "# Problem 7\n",
        "Bir yılın artık yıl olup olmadığını kontrol etmek için bir program yazın. \n",
        "Artık yıl kuralı:\n",
        "\n",
        "a) Eğer yılın son iki basamağı (00) ile bitmiyor ve yalnızca 4'e tam bölünüyorsa artık yıldır. Ya da, \n",
        "\n",
        "b) Eğer yıl 400'e tam bölünüyorsa artık yıldır.\n",
        "\n",
        "**Örneğin**\n",
        "```\n",
        "2017 artık yıl değildir.\n",
        "1900 artık yıl değildir\n",
        "2012 artık yıldır.\n",
        "2000 artık yıldır.\n",
        "```"
      ]
    },
    {
      "cell_type": "code",
      "execution_count": 27,
      "metadata": {
        "id": "4uWh8qUL_Te_"
      },
      "outputs": [
        {
          "name": "stdout",
          "output_type": "stream",
          "text": [
            "1123 artık yıl değildir\n"
          ]
        }
      ],
      "source": [
        "# 7.Problemin Çözümünü Buraya Yazınız\n",
        "yıl=int(input(\"yıl:\"))\n",
        "if (yıl%100!=0 and yıl%4==0) or yıl%400==0:\n",
        "    print(f\"{yıl} artık yıldır.\")\n",
        "else:\n",
        "    print(f\"{yıl} artık yıl değildir\")"
      ]
    }
  ],
  "metadata": {
    "colab": {
      "provenance": []
    },
    "kernelspec": {
      "display_name": "Python 3.10.5 64-bit",
      "language": "python",
      "name": "python3"
    },
    "language_info": {
      "codemirror_mode": {
        "name": "ipython",
        "version": 3
      },
      "file_extension": ".py",
      "mimetype": "text/x-python",
      "name": "python",
      "nbconvert_exporter": "python",
      "pygments_lexer": "ipython3",
      "version": "3.11.1"
    },
    "orig_nbformat": 4,
    "vscode": {
      "interpreter": {
        "hash": "5026d2d6e7aaaaba093def813beadff083d8733e4a511af01735cbabd156995d"
      }
    }
  },
  "nbformat": 4,
  "nbformat_minor": 0
}
