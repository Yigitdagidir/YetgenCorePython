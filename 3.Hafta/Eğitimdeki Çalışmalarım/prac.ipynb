{
 "cells": [
  {
   "cell_type": "code",
   "execution_count": 1,
   "metadata": {},
   "outputs": [
    {
     "name": "stdout",
     "output_type": "stream",
     "text": [
      "ses: 50\n",
      "ses: 50\n",
      "ses: 50\n",
      "ses: 55\n",
      "ses: 50\n",
      "ses: 45\n",
      "ses: 40\n",
      "program sonlandi\n"
     ]
    }
   ],
   "source": [
    "vol=50\n",
    "while True:\n",
    "    x=input()\n",
    "    print(f\"ses: {vol}\")\n",
    "    if x==\"q\":\n",
    "        print(\"program sonlandi\")\n",
    "        break\n",
    "    elif x==\"+\":\n",
    "        vol+=5\n",
    "    elif x==\"-\":\n",
    "        vol-=5\n",
    "    "
   ]
  }
 ],
 "metadata": {
  "kernelspec": {
   "display_name": "Python 3",
   "language": "python",
   "name": "python3"
  },
  "language_info": {
   "codemirror_mode": {
    "name": "ipython",
    "version": 3
   },
   "file_extension": ".py",
   "mimetype": "text/x-python",
   "name": "python",
   "nbconvert_exporter": "python",
   "pygments_lexer": "ipython3",
   "version": "3.11.1"
  },
  "orig_nbformat": 4
 },
 "nbformat": 4,
 "nbformat_minor": 2
}
