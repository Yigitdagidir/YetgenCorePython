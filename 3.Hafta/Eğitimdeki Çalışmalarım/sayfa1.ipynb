{
 "cells": [
  {
   "cell_type": "markdown",
   "metadata": {},
   "source": [
    "## 3.Hafta Hedefleri\n",
    "- Karşılaştırma Operatörleri\n",
    "- Mantıksal Operatörler\n",
    "- Karar Yapıları\n",
    "- Döngüler"
   ]
  },
  {
   "attachments": {},
   "cell_type": "markdown",
   "metadata": {},
   "source": [
    "### Karşılaştırma Operatörleri\n",
    "- atama operatörü \"=\". x=5 ile x'e 5 değeri atanır.\n",
    "- \"==\" iki değerin birbirine eşitliğini kontrol eder. eşitse true, değilse false değerini döndürür.\n",
    "- \"!=\" Eşit değil mi? cevap eşit değilse true, eşitse false değeri döndürür"
   ]
  },
  {
   "cell_type": "code",
   "execution_count": null,
   "metadata": {},
   "outputs": [],
   "source": [
    "a,b,c,d=5,5,10,4\n",
    "print(a == b) #true\n",
    "print(a == c) #false çıkar\n",
    "print(a != c) #true\n",
    "print(a>c) #false"
   ]
  },
  {
   "attachments": {},
   "cell_type": "markdown",
   "metadata": {},
   "source": [
    "### Mantıksal Operatörler \n",
    "#### AND operatörü\n",
    "- true and true = 1\n",
    "- true and false=0\n",
    "- false and true=0\n",
    "- false and false=0"
   ]
  },
  {
   "cell_type": "code",
   "execution_count": null,
   "metadata": {},
   "outputs": [],
   "source": [
    "username=\"ygt\"\n",
    "point=90\n",
    "basari= True\n",
    "print(username==\"ygt\" and point>=85)\n",
    "print(username==\"ygt\" and point<85)\n",
    "print(point>=85 and basari==True)"
   ]
  },
  {
   "attachments": {},
   "cell_type": "markdown",
   "metadata": {},
   "source": [
    "#### OR operatörü\n",
    "- false and false= false\n"
   ]
  },
  {
   "cell_type": "code",
   "execution_count": null,
   "metadata": {},
   "outputs": [],
   "source": [
    "print(3>2 or 3<2)"
   ]
  },
  {
   "attachments": {},
   "cell_type": "markdown",
   "metadata": {},
   "source": [
    "#### NOT operatörü\n",
    "- True değerini False\n",
    "- False değerini True yapar\n"
   ]
  },
  {
   "cell_type": "code",
   "execution_count": 24,
   "metadata": {},
   "outputs": [
    {
     "name": "stdout",
     "output_type": "stream",
     "text": [
      "True\n",
      "False\n"
     ]
    }
   ],
   "source": [
    "print(not False)\n",
    "deger= True\n",
    "deger= not True\n",
    "print(deger)\n"
   ]
  }
 ],
 "metadata": {
  "kernelspec": {
   "display_name": "Python 3",
   "language": "python",
   "name": "python3"
  },
  "language_info": {
   "codemirror_mode": {
    "name": "ipython",
    "version": 3
   },
   "file_extension": ".py",
   "mimetype": "text/x-python",
   "name": "python",
   "nbconvert_exporter": "python",
   "pygments_lexer": "ipython3",
   "version": "3.11.1"
  },
  "orig_nbformat": 4
 },
 "nbformat": 4,
 "nbformat_minor": 2
}
