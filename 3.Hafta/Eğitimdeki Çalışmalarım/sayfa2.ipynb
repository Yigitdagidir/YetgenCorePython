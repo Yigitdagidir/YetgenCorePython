{
 "cells": [
  {
   "attachments": {},
   "cell_type": "markdown",
   "metadata": {},
   "source": [
    "### Karar Yapıları\n",
    "- eğer if bloğu doğruysa diğer durumlara bakılmaz. if altındaki kod çalışır  \n",
    "\n",
    "``` python\n",
    "if koşul:\n",
    "    # koşul doğruysa çalışacak kodlar\n",
    "elif koşul2:\n",
    "    # koşul2 doğruysa çalışacak kodlar\n",
    "else:\n",
    "    # koşul 1 ve 2 yanlışsa çalışacak kodlar\n",
    "```\n",
    "- elif yapısı farklı koşullardan doğacak durumların kontrolünü sağlamak için kullanılır\n",
    "- else yapısı if ve varsa elif yapıları false ise çalışır.\n",
    "\n",
    "\n"
   ]
  },
  {
   "cell_type": "code",
   "execution_count": null,
   "metadata": {},
   "outputs": [],
   "source": [
    "puan=int(input(\"Puanınızı giriniz:\"))\n",
    "if 100>=puan>=85:\n",
    "    print(\"Tebrikler! Geçtiniz.\")\n",
    "elif puan>100:\n",
    "    print(\"hatalı değer girdiniz. Puan en fazla 100 olabilir.\")\n",
    "else:\n",
    "    print(\"Maalesef yeterli puana ulaşamadınız.\")\n"
   ]
  },
  {
   "cell_type": "code",
   "execution_count": null,
   "metadata": {},
   "outputs": [],
   "source": [
    "sayi=int(input(\"sayi giriniz:\"))\n",
    "if sayi%2==0: # % operatörü ile mod aldık. sayi eğer çift ise mod 0 olur ve if true değerini alarak kod çalışır.\n",
    "    print(\"sayi çift\")\n",
    "    if sayi%3==0:\n",
    "        print(\"bu sayi 6'nın katıdır.\")\n",
    "else:\n",
    "    print(\"bu sayi tek sayidir.\")\n",
    "    \n",
    "if sayi%2 != 0:\n",
    "    print(\"sayi tek sayidir\")\n"
   ]
  },
  {
   "attachments": {},
   "cell_type": "markdown",
   "metadata": {},
   "source": [
    "### in operatörü\n",
    "belirtilen değerin, bir dizi,metin,liste ögesinde olup olmadığını kontrol eder. True veya False değerini döndürür.\n",
    "\n"
   ]
  },
  {
   "cell_type": "code",
   "execution_count": null,
   "metadata": {},
   "outputs": [],
   "source": [
    "kurs=\"yetgen python\"\n",
    "\"python\" in kurs"
   ]
  },
  {
   "attachments": {},
   "cell_type": "markdown",
   "metadata": {},
   "source": [
    "## Döngüler\n",
    "- Döngüler genel olarak veriler koşullar karşılanana kadar devam eden süreçtir.\n",
    "- Döngü koşulu her zaman doğruysa döngü sonsuza kadar devam eder. buna genelde \"while\" döngüsünde rastlanır.\n",
    "- eğer bir döngü baştan yanlışsa bu döngü hiç çalışmaz. buna \"sıfır açmaz döngüsü\" denir.\n",
    "\n"
   ]
  },
  {
   "attachments": {},
   "cell_type": "markdown",
   "metadata": {},
   "source": [
    "### For döngüsü\n",
    "- for döngüsü; listelerin,demetlerin,stringlerin ve hatta sözcüklerin üzerinde dolaşmmamızı sağlayan bir döngü türüdür. "
   ]
  },
  {
   "cell_type": "code",
   "execution_count": null,
   "metadata": {},
   "outputs": [],
   "source": [
    "liste= [1,2,3,4,5]\n",
    "for x in liste:\n",
    "    print(x**2)\n",
    "    if x==5:\n",
    "        print(\"Liste bitti\")\n",
    "    else:\n",
    "        print(f\" {x} sayısının karesi yukarıda   \")"
   ]
  },
  {
   "cell_type": "code",
   "execution_count": null,
   "metadata": {},
   "outputs": [],
   "source": [
    "sayilar=\"12345\"\n",
    "for x in sayilar:\n",
    "    print(int(x)*10)"
   ]
  },
  {
   "attachments": {},
   "cell_type": "markdown",
   "metadata": {},
   "source": [
    "### While döngüsü\n",
    "- while döngüleri belirli bir koşul sağlandığı sürece bloktaki işlemleri gerçekleştirmeye devam eder. \n",
    "- sona ermesi için koşulun bir süre sonra false olması gerekir."
   ]
  },
  {
   "cell_type": "code",
   "execution_count": null,
   "metadata": {},
   "outputs": [],
   "source": [
    "sum=0\n",
    "i=1\n",
    "while i<11:\n",
    "    i+= 1\n",
    "    sum += i # sum = sum + i\n",
    "    \n",
    "    print(f\"toplam: {sum}\") # 1+2+3+..+9+10 = 55\n",
    "    "
   ]
  },
  {
   "attachments": {},
   "cell_type": "markdown",
   "metadata": {},
   "source": [
    "## range() fonksiyonu\n",
    "- range(başlangıç,bitiş,artış miktarı) şeklinde kullanılır"
   ]
  },
  {
   "cell_type": "code",
   "execution_count": null,
   "metadata": {},
   "outputs": [],
   "source": [
    "for x in range(1,10,3):\n",
    "    print(x)"
   ]
  },
  {
   "cell_type": "code",
   "execution_count": null,
   "metadata": {},
   "outputs": [],
   "source": [
    "for x in range(0,5,1): # range(0,5,0)\n",
    "    print(x)\n",
    "\n",
    "for i in range(0,101,10):\n",
    "    print(i)"
   ]
  },
  {
   "attachments": {},
   "cell_type": "markdown",
   "metadata": {},
   "source": [
    "## Break \n",
    "- döngüyü sonlandırır.  \n",
    "\n",
    "## Continue\n",
    "- döngünün sonraki adımına geçer. o adımı atlar.\n"
   ]
  },
  {
   "cell_type": "code",
   "execution_count": null,
   "metadata": {},
   "outputs": [],
   "source": [
    "i=0\n",
    "while i<10:\n",
    "    if i ==5:\n",
    "        break\n",
    "    else:\n",
    "        print(i)\n",
    "    i +=1"
   ]
  },
  {
   "cell_type": "code",
   "execution_count": null,
   "metadata": {},
   "outputs": [],
   "source": [
    "while True:\n",
    "    print(\"Programı kapatmak için q tuşuna basınız.\")\n",
    "    yas= input(\"Yaş:\")\n",
    "    if yas== \"q\":\n",
    "        break\n",
    "    else: \n",
    "        print(f\"Yaşınız: {yas}\")\n",
    "    \n"
   ]
  },
  {
   "cell_type": "code",
   "execution_count": null,
   "metadata": {},
   "outputs": [],
   "source": [
    "for i in range(7):\n",
    "    if i==5:\n",
    "        print(\"a\")\n",
    "        continue # i 5 değerine geldiğinde a print eder ama sonra continue olduğu için turu bitirip sonraki adıma geçer.\n",
    "    print(i)"
   ]
  }
 ],
 "metadata": {
  "kernelspec": {
   "display_name": "Python 3",
   "language": "python",
   "name": "python3"
  },
  "language_info": {
   "codemirror_mode": {
    "name": "ipython",
    "version": 3
   },
   "file_extension": ".py",
   "mimetype": "text/x-python",
   "name": "python",
   "nbconvert_exporter": "python",
   "pygments_lexer": "ipython3",
   "version": "3.11.1"
  },
  "orig_nbformat": 4
 },
 "nbformat": 4,
 "nbformat_minor": 2
}
