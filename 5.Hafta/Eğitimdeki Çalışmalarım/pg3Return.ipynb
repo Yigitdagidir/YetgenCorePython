{
 "cells": [
  {
   "attachments": {},
   "cell_type": "markdown",
   "metadata": {},
   "source": [
    "### return\n",
    "- kodun tamamında kullanmak için işlevin kodu tamamlandıktan sonra kalan değeri (sonuç değeri) döndürür.\n",
    "\n",
    "- \"return\" yaptıktan sonraki kodlar yürütülmez. bu görmezden gelindikleri anlamına gelir.\n",
    "\n",
    "- return yardımıyla fonksiyonlar değerleri çağrıldığı yere döndürebilir ve biz de bu değerleri istediğimiz yerde kullanabiliriz.\n"
   ]
  },
  {
   "cell_type": "code",
   "execution_count": 15,
   "metadata": {},
   "outputs": [
    {
     "name": "stdout",
     "output_type": "stream",
     "text": [
      "12.0\n"
     ]
    }
   ],
   "source": [
    "def dikUcgenAlani(a,b):\n",
    "    return (a*b/2)\n",
    "    \n",
    "\n",
    "alan = dikUcgenAlani(4,6)   \n",
    "print(alan)"
   ]
  },
  {
   "attachments": {},
   "cell_type": "markdown",
   "metadata": {},
   "source": [
    "### *args"
   ]
  },
  {
   "attachments": {},
   "cell_type": "markdown",
   "metadata": {},
   "source": [
    "- Sınırsız sayıda parametli fonksiyon oluşturmak için parametrenin önüne tek yıldız(*) koyabiliriz.\n",
    "- isimsiz argümanlardır"
   ]
  },
  {
   "cell_type": "code",
   "execution_count": 16,
   "metadata": {},
   "outputs": [
    {
     "name": "stdout",
     "output_type": "stream",
     "text": [
      "(4, 5, 6, 7, 10)\n"
     ]
    }
   ],
   "source": [
    "def sayilar(*x):\n",
    "    print(x)\n",
    "\n",
    "sayilar(4,5,6,7,10)\n"
   ]
  },
  {
   "cell_type": "code",
   "execution_count": 22,
   "metadata": {},
   "outputs": [
    {
     "name": "stdout",
     "output_type": "stream",
     "text": [
      "46\n"
     ]
    }
   ],
   "source": [
    "def topla(*x):\n",
    "    toplam=0\n",
    "    for i in x:\n",
    "        toplam+=i \n",
    "    print(toplam)\n",
    "topla(10,11,12,13)"
   ]
  },
  {
   "attachments": {},
   "cell_type": "markdown",
   "metadata": {},
   "source": [
    "### **kwargs\n",
    "- args'dan farkı, fonksiyonu çağırırken değer ilişkisiyle çağırabilmemizdir.\n",
    "- isimli argümanlardır.\n",
    "- dict yapısı oluşturmayı sağlar"
   ]
  },
  {
   "cell_type": "code",
   "execution_count": 28,
   "metadata": {},
   "outputs": [
    {
     "name": "stdout",
     "output_type": "stream",
     "text": [
      "{'iller': ('istabul', 'adana'), 'Bolgeler': ('Marmara', 'Akdeniz')}\n"
     ]
    }
   ],
   "source": [
    "def kimlikGoster(**kimlik):\n",
    "    print(kimlik)\n",
    "\n",
    "kimlikGoster(iller=(\"istabul\",\"adana\") , Bolgeler=(\"Marmara\",\"Akdeniz\"))"
   ]
  },
  {
   "cell_type": "code",
   "execution_count": 34,
   "metadata": {},
   "outputs": [
    {
     "name": "stdout",
     "output_type": "stream",
     "text": [
      "10\n",
      "(20, 30, 40, 50)\n",
      "6\n",
      "{'iller': ('istabul', 'adana'), 'Bolgeler': ('Marmara', 'Akdeniz')}\n"
     ]
    }
   ],
   "source": [
    "def ornek(a, *sayilar, b, **kimlik):\n",
    "    print(a)\n",
    "    print(sayilar)\n",
    "    print(b)\n",
    "    print(kimlik)\n",
    "\n",
    "ornek(10,20,30,40,50, b=6, iller=(\"istabul\",\"adana\") , Bolgeler=(\"Marmara\",\"Akdeniz\")  )"
   ]
  },
  {
   "attachments": {},
   "cell_type": "markdown",
   "metadata": {},
   "source": [
    "### Pass deyimi\n",
    "- Python programlamasında pass ifadesi null değer atama için kullanılır. Python'daki bir açıklama ve geçiş ifadesi arasındaki fark,\n",
    "yorumlayıcı bir yorumu tamamen yok sayırken, geçişin göz ardı edilmemesidir."
   ]
  },
  {
   "cell_type": "code",
   "execution_count": 35,
   "metadata": {},
   "outputs": [],
   "source": [
    "def carp(*sayilar):\n",
    "    for sayi in sayilar:\n",
    "        pass\n",
    "\n",
    "carp(2,5)"
   ]
  }
 ],
 "metadata": {
  "kernelspec": {
   "display_name": "Python 3",
   "language": "python",
   "name": "python3"
  },
  "language_info": {
   "codemirror_mode": {
    "name": "ipython",
    "version": 3
   },
   "file_extension": ".py",
   "mimetype": "text/x-python",
   "name": "python",
   "nbconvert_exporter": "python",
   "pygments_lexer": "ipython3",
   "version": "3.11.1"
  },
  "orig_nbformat": 4
 },
 "nbformat": 4,
 "nbformat_minor": 2
}
