{
 "cells": [
  {
   "attachments": {},
   "cell_type": "markdown",
   "metadata": {},
   "source": [
    "## Fonksiyonlar\n",
    "- bir kodu bir çok yerde kullanmak gerekiyorsa , her yerde tekrar kullanmayı önler. Programlamanın Temeli:DRY(DONT REPEAT YOURSEF)\n",
    "\n",
    "- Fonksiyon içindeki değişkenler yereldir. Yani fonksiyon içinde değişken tanımlandığında, o değişkeni fonksiyonun dışında çağıramayız. O değişken fonksiyona özeldir ve globalde kullanılamaz\n",
    "\n"
   ]
  },
  {
   "attachments": {},
   "cell_type": "markdown",
   "metadata": {},
   "source": [
    "- Fonksiyon tanımlama yapısı:\n",
    "```python\n",
    "    def fonksiyonAdi(parametre1,parametre2...(opsiyonel)):\n",
    "        # fonksiyonun bloğu\n",
    "        Yapılacak işlemler\n",
    "        # Dönüş değeri(opsiyonel)\n",
    "```"
   ]
  },
  {
   "cell_type": "code",
   "execution_count": 1,
   "metadata": {},
   "outputs": [
    {
     "name": "stdout",
     "output_type": "stream",
     "text": [
      "merhaba\n"
     ]
    }
   ],
   "source": [
    "def selamla():\n",
    "    print(\"merhaba\")\n",
    "selamla()"
   ]
  },
  {
   "attachments": {},
   "cell_type": "markdown",
   "metadata": {},
   "source": [
    "### Argüman:\n",
    "- Fonksiyon çağrılırken parantez içindeki işlevlere iletilen değerler (string,number vb.) örnek: fonksiyon(argüman)\n",
    "\n",
    "- Eğer fonksiyon çağrılırken bir argüman yoksa None olarak sayılır. Bu nedenle fonksiyon içinde ifade edilecek bir değer yoksa, belirlenen değer kullanılır"
   ]
  },
  {
   "attachments": {},
   "cell_type": "markdown",
   "metadata": {},
   "source": [
    "```python \n",
    "def helloword(name = \"ziyaretçi\"):\n",
    "    print(\"Merhaba\", name)\n",
    "    \n",
    "\n",
    "```"
   ]
  },
  {
   "attachments": {},
   "cell_type": "markdown",
   "metadata": {},
   "source": [
    "- birden fazla parametre olabilir hepsi virgülle ayrılır"
   ]
  },
  {
   "cell_type": "code",
   "execution_count": 3,
   "metadata": {},
   "outputs": [
    {
     "name": "stdout",
     "output_type": "stream",
     "text": [
      "Merhaba ziyaretçi\n",
      "Merhaba Yiğit\n"
     ]
    }
   ],
   "source": [
    "def helloWorld(name=\"ziyaretçi\"):\n",
    "    print(\"Merhaba\",name)\n",
    "\n",
    "helloWorld()\n",
    "helloWorld(\"Yiğit\")"
   ]
  },
  {
   "cell_type": "code",
   "execution_count": 7,
   "metadata": {},
   "outputs": [
    {
     "name": "stdout",
     "output_type": "stream",
     "text": [
      "16\n"
     ]
    }
   ],
   "source": [
    "def topla(sayi1,sayi2,sayi3):\n",
    "    toplam = sayi1+sayi2+sayi3\n",
    "    print(toplam)\n",
    "topla(2,5,9)"
   ]
  },
  {
   "cell_type": "code",
   "execution_count": 12,
   "metadata": {},
   "outputs": [
    {
     "name": "stdout",
     "output_type": "stream",
     "text": [
      "Siteye hoşgeldin Yiğit Dağıdır\n",
      "Siteye hoşgeldin Elon Dağıdır\n",
      "Siteye hoşgeldin Elon Musk Dağıdır\n",
      "Siteye hoşgeldin Elon 2\n",
      "Siteye hoşgeldin Elon Musk\n"
     ]
    }
   ],
   "source": [
    "def merhaba(name=\"Yiğit\",surname=\"Dağıdır\"):\n",
    "    print(\"Siteye hoşgeldin\",name,surname)\n",
    "merhaba()\n",
    "merhaba(\"Elon\")\n",
    "merhaba(\"Elon Musk\")\n",
    "merhaba(\"Elon\",2)\n",
    "merhaba(\"Elon\",\"Musk\")"
   ]
  },
  {
   "cell_type": "code",
   "execution_count": 18,
   "metadata": {},
   "outputs": [
    {
     "name": "stdout",
     "output_type": "stream",
     "text": [
      "24\n",
      "72\n"
     ]
    }
   ],
   "source": [
    "def carp(sayi1=1,sayi2=1,sayi3=1):\n",
    "    c = sayi1*sayi2*sayi3\n",
    "    print(c)\n",
    "carp(2,3,4)\n",
    "carp(8,9)"
   ]
  },
  {
   "cell_type": "code",
   "execution_count": 30,
   "metadata": {},
   "outputs": [
    {
     "name": "stdout",
     "output_type": "stream",
     "text": [
      "merhaba\n",
      "Hola\n",
      "Bonjour\n",
      "Hello\n"
     ]
    }
   ],
   "source": [
    "def merhaba(dil):\n",
    "    if dil==\"es\":\n",
    "        print(\"Hola\")\n",
    "    elif dil==\"fr\":\n",
    "        print(\"Bonjour\")\n",
    "    elif dil==\"en\":\n",
    "        print(\"Hello\")\n",
    "    else:\n",
    "        print(\"merhaba\")\n",
    "merhaba(2)\n",
    "merhaba(\"es\")\n",
    "merhaba(\"fr\")\n",
    "merhaba(\"en\")"
   ]
  }
 ],
 "metadata": {
  "kernelspec": {
   "display_name": "Python 3",
   "language": "python",
   "name": "python3"
  },
  "language_info": {
   "codemirror_mode": {
    "name": "ipython",
    "version": 3
   },
   "file_extension": ".py",
   "mimetype": "text/x-python",
   "name": "python",
   "nbconvert_exporter": "python",
   "pygments_lexer": "ipython3",
   "version": "3.11.1"
  },
  "orig_nbformat": 4
 },
 "nbformat": 4,
 "nbformat_minor": 2
}
