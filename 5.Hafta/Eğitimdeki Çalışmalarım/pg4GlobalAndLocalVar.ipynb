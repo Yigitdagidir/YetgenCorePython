{
 "cells": [
  {
   "attachments": {},
   "cell_type": "markdown",
   "metadata": {},
   "source": [
    "## Global ve Yerel Değişkenler\n",
    "• Global değişken fonksiyonlarımızın dışında tanımladığımız değişkenlerdir.\n",
    "\n",
    "• Yerel değişkenler ise fonksiyon içinde kullandığımız değişkenlerdir.\n",
    "\n",
    "• Fonksiyonun dışında tanımladığımız fonksiyonların içinde kullanılırken, fonksiyonların içinde tanımladığımız değişkenler fonksiyon\n",
    "dışında kullanılamaz.\n",
    "\n",
    "```\n",
    "# global değişken\n",
    "def goster():\n",
    "    # yerel değişken\n",
    "```"
   ]
  },
  {
   "attachments": {},
   "cell_type": "markdown",
   "metadata": {},
   "source": [
    "- Fonksiyon içindeki değişkeni global yapma:"
   ]
  },
  {
   "cell_type": "code",
   "execution_count": 6,
   "metadata": {},
   "outputs": [
    {
     "name": "stdout",
     "output_type": "stream",
     "text": [
      "5\n",
      "5\n"
     ]
    }
   ],
   "source": [
    "def yazdir():\n",
    "    global x\n",
    "    x=5\n",
    "    print(x)\n",
    "\n",
    "yazdir()\n",
    "print(x)\n"
   ]
  },
  {
   "attachments": {},
   "cell_type": "markdown",
   "metadata": {},
   "source": [
    "## Lambda Gösterimi\n",
    "• Pythonda isimsiz olarak tanımladığımız fonksiyonlara lambda fonksiyonları denir.\n",
    "\n",
    "• Tek satırda yazılırlar.\n",
    "\n",
    "• Gösterimi:\n",
    "```python\n",
    "    - fonksiyon adi = lambda parametreler : yapılacakislem\n",
    "```\n"
   ]
  },
  {
   "cell_type": "code",
   "execution_count": 9,
   "metadata": {},
   "outputs": [
    {
     "data": {
      "text/plain": [
       "30.0"
      ]
     },
     "execution_count": 9,
     "metadata": {},
     "output_type": "execute_result"
    }
   ],
   "source": [
    "dikUcgenAlani = lambda a,b: a*b/2\n",
    "dikUcgenAlani(5,12)"
   ]
  },
  {
   "cell_type": "code",
   "execution_count": 11,
   "metadata": {},
   "outputs": [
    {
     "name": "stdout",
     "output_type": "stream",
     "text": [
      "tiğiY\n"
     ]
    }
   ],
   "source": [
    "ters = lambda s : print(s[::-1]) # tersten yazdıran fonk.\n",
    "ters(\"Yiğit\")"
   ]
  }
 ],
 "metadata": {
  "kernelspec": {
   "display_name": "Python 3",
   "language": "python",
   "name": "python3"
  },
  "language_info": {
   "codemirror_mode": {
    "name": "ipython",
    "version": 3
   },
   "file_extension": ".py",
   "mimetype": "text/x-python",
   "name": "python",
   "nbconvert_exporter": "python",
   "pygments_lexer": "ipython3",
   "version": "3.11.1"
  },
  "orig_nbformat": 4
 },
 "nbformat": 4,
 "nbformat_minor": 2
}
