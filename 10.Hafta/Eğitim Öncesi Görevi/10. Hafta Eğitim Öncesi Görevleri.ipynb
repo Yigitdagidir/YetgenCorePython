{
 "cells": [
  {
   "attachments": {},
   "cell_type": "markdown",
   "metadata": {},
   "source": [
    "# Problem 1"
   ]
  },
  {
   "cell_type": "code",
   "execution_count": 8,
   "metadata": {},
   "outputs": [
    {
     "name": "stdout",
     "output_type": "stream",
     "text": [
      "Matris boyutu: (5,)\n",
      "Matris boyut sayısı: 2\n"
     ]
    }
   ],
   "source": [
    "# 1 - numpy kütüphanesini import edin\n",
    "import numpy as np\n",
    "\n",
    "# 2 - 0 ile 10 arasında 5 sayıdan oluşan matris üretin\n",
    "matris = np.random.randint(0, 10, size=(5))\n",
    "\n",
    "# 3 - matris'in boyutunu öğrenin\n",
    "print(\"Matris boyutu:\", matris.shape)\n",
    "\n",
    "# 4 - matris'i yeniden boyutlandırın\n",
    "matris = matris.reshape((1,5))\n",
    "\n",
    "# 5 - matris'in boyut sayısını öğrenin\n",
    "print(\"Matris boyut sayısı:\", matris.ndim)\n"
   ]
  },
  {
   "attachments": {},
   "cell_type": "markdown",
   "metadata": {},
   "source": [
    "# Problem 2"
   ]
  },
  {
   "cell_type": "code",
   "execution_count": 14,
   "metadata": {},
   "outputs": [
    {
     "name": "stdout",
     "output_type": "stream",
     "text": [
      "Oluşturulan Matris: [1 3 5 7 9]\n",
      "Parçalanan Matrisler:\n",
      " [1 3 5] \n",
      " [7 9]\n",
      "Birleştirilen Matris: [1 3 5 7 9]\n"
     ]
    }
   ],
   "source": [
    "import numpy as np\n",
    "# 1 - 0 ile 10 arasında bulunan tek sayılardan oluşan matris üretin\n",
    "matris = np.arange(1, 10, 2)\n",
    "print(\"Oluşturulan Matris:\", matris)\n",
    "\n",
    "# 2 - Oluşturduğunuz matrisi parçalayın\n",
    "matris1, matris2 = np.array_split(matris, 2)\n",
    "print(\"Parçalanan Matrisler:\\n\",matris1,\"\\n\", matris2)\n",
    "\n",
    "# 3 - Parçalanmış matrisleri birleştirin\n",
    "birlesmis_matris = np.concatenate((matris1, matris2))\n",
    "print(\"Birleştirilen Matris:\", birlesmis_matris)\n"
   ]
  },
  {
   "attachments": {},
   "cell_type": "markdown",
   "metadata": {},
   "source": [
    "# Problem 3"
   ]
  },
  {
   "cell_type": "code",
   "execution_count": 38,
   "metadata": {},
   "outputs": [
    {
     "name": "stdout",
     "output_type": "stream",
     "text": [
      "Matris:\n",
      " [[89 51  9 95 35]\n",
      " [85 57 39 55 33]]\n",
      "Matrisin satır sayısı: 2 ,Sütun sayısı: 5\n",
      "Matrisin boyut sayısı: 2\n",
      "Matrisin eleman sayısı: 10\n",
      "Matris elemanlarının toplamı: 548\n",
      "Matris elemanlarının en küçüğü: 95\n",
      "Matris elemanlarının en büyüğü: 9\n",
      "Matris elemanlarının ortalaması: 54.8\n",
      "Matris elemanlarının ortancası: 53.0\n",
      "Matris elemanlarının standart sapması: 26.327931935493908\n"
     ]
    }
   ],
   "source": [
    "import numpy as np\n",
    "\n",
    "# 1 - 5 ile 100 arasında ikişer ikişer atlayarak rastgele 10 sayıdan oluşan matris üretin\n",
    "matris = np.random.choice(np.arange(5, 101, 2), size=(2,5), replace=False)\n",
    "print(\"Matris:\\n\",matris)\n",
    "\n",
    "# 2 - matris'in özelliklerini inceleyin\n",
    "print(\"Matrisin satır sayısı:\", matris.shape[0],\",Sütun sayısı:\",matris.shape[1] )\n",
    "print(\"Matrisin boyut sayısı:\", matris.ndim)\n",
    "print(\"Matrisin eleman sayısı:\", matris.size)\n",
    "print(\"Matris elemanlarının toplamı:\", np.sum(matris))\n",
    "print(\"Matris elemanlarının en küçüğü:\", np.max(matris))\n",
    "print(\"Matris elemanlarının en büyüğü:\", np.min(matris))\n",
    "print(\"Matris elemanlarının ortalaması:\", np.mean(matris))\n",
    "print(\"Matris elemanlarının ortancası:\", np.median(matris))\n",
    "print(\"Matris elemanlarının standart sapması:\", np.std(matris))\n"
   ]
  }
 ],
 "metadata": {
  "kernelspec": {
   "display_name": "Python 3",
   "language": "python",
   "name": "python3"
  },
  "language_info": {
   "codemirror_mode": {
    "name": "ipython",
    "version": 3
   },
   "file_extension": ".py",
   "mimetype": "text/x-python",
   "name": "python",
   "nbconvert_exporter": "python",
   "pygments_lexer": "ipython3",
   "version": "3.11.1"
  },
  "orig_nbformat": 4,
  "vscode": {
   "interpreter": {
    "hash": "5026d2d6e7aaaaba093def813beadff083d8733e4a511af01735cbabd156995d"
   }
  }
 },
 "nbformat": 4,
 "nbformat_minor": 2
}
