{
 "cells": [
  {
   "cell_type": "code",
   "execution_count": 2,
   "metadata": {},
   "outputs": [
    {
     "name": "stdout",
     "output_type": "stream",
     "text": [
      "[23 81 99 66 13]\n",
      "[13 23 66 81 99]\n"
     ]
    }
   ],
   "source": [
    "# 1 - numpy kütüphanesini import edin\n",
    "\n",
    "import numpy as np\n",
    "\n",
    "# 2 - 5 elemanlı bir numpy array oluşturun\n",
    "array=np.array([23,81,99,66,13])\n",
    "print(array)\n",
    "\n",
    "# 3 - Oluşturduğunuz arrayi küçükten büyüğe sıralayın.\n",
    "print(np.sort(array))"
   ]
  },
  {
   "cell_type": "code",
   "execution_count": 29,
   "metadata": {},
   "outputs": [
    {
     "name": "stdout",
     "output_type": "stream",
     "text": [
      "[10 15 30 45 60]\n",
      "[ 5  6  7  8  9 10 11 12 13 14]\n",
      "[50 55 60 65 70 75 80 85 90 95]\n",
      "[0. 0. 0. 0. 0. 0. 0. 0. 0. 0.]\n",
      "[1. 1. 1. 1. 1. 1. 1. 1. 1. 1.]\n",
      "[  0.  25.  50.  75. 100.]\n",
      "[21 16 27 28 15]\n",
      "[-0.41097472  0.21277547 -0.29719844  0.93520119 -0.0971711   0.19600624\n",
      " -0.46261112 -0.12958244 -0.645713   -0.79309822]\n",
      "[[20 48 16 15 17]\n",
      " [19 26 15 22 43]\n",
      " [26 20 40 25 35]]\n",
      "[65 94 71 62 95]\n",
      "[116 125 146]\n",
      "48\n",
      "15\n",
      "25.8\n",
      "1\n",
      "[14 13 13]\n",
      "[13 16 12 16 13 13 13 14]\n",
      "[20 48 16 15 17]\n",
      "15\n",
      "[20 19 26]\n",
      "[[ 400 2304  256  225  289]\n",
      " [ 361  676  225  484 1849]\n",
      " [ 676  400 1600  625 1225]]\n",
      "[[False  True False False False]\n",
      " [False False False False False]\n",
      " [False False False False False]]\n"
     ]
    }
   ],
   "source": [
    "import numpy as np\n",
    "# 1- (10,15,30,45,60) değerlerine sahip numpy dizisi oluşturunuz.\n",
    "a1 = np.array([10, 15, 30, 45, 60])\n",
    "print(a1)\n",
    "# 2- (5-15) arasındaki sayılarla numpy dizisi oluşturunuz.\n",
    "a2= np.arange(5, 15)\n",
    "print(a2)\n",
    "# 3- (50-100) arasında 5'er 5'er artarak numpy dizisi oluşturunuz.\n",
    "a3 = np.arange(50, 100, 5)\n",
    "print(a3)\n",
    "# 4- 10 elemanlı sıfırlardan oluşan bir dizi oluşturunuz.\n",
    "a4 = np.zeros(10)\n",
    "print(a4)\n",
    "# 5- 10 elemanlı birlerden oluşan bir dizi oluşturunuz.\n",
    "a5=np.ones(10)\n",
    "print(a5)\n",
    "# 6- (0-100) arasında eşit aralıklı 5 sayı üretin.\n",
    "a6 = np.linspace(0, 100, 5)\n",
    "print(a6)\n",
    "# 7- (10-30) arasında rastgele 5 tane tamsayı üretin.\n",
    "random_numbers = np.random.randint(10, 31, 5)\n",
    "print(random_numbers)\n",
    "# 8- [-1 ile 1] arasında 10 adet sayı üretin.\n",
    "\n",
    "random_numbers2 = np.random.uniform(-1, 1, 10)\n",
    "print(random_numbers2)\n",
    "# 9- (3x5) boyutlarında (10-50) arasında rastgele bir matris oluşturunuz.\n",
    "random_numbers3 = np.random.randint(10, 50, size=(3, 5))\n",
    "print(random_numbers3)\n",
    "# 10- Üretilen matrisin satır ve sütun sayıları toplamlarını hesaplayınız ?\n",
    "print(random_numbers3.sum(axis=0))\n",
    "print(random_numbers3.sum(axis=1))\n",
    "\n",
    "# 11- Üretilen matrisin en büyük, en küçük ve ortalaması nedir ?\n",
    "print(random_numbers3.max())\n",
    "print(random_numbers3.min())\n",
    "print(random_numbers3.mean())\n",
    "# 12- Üretilen matrisin en büyük değerinin indeksi kaçtır ?\n",
    "print(random_numbers3.argmax())\n",
    "# 13- (10-20) arasındaki sayıları içeren dizinin ilk 3 elemanını seçiniz.\n",
    "random_numbers4=np.random.randint(10,20,8)\n",
    "print(random_numbers4[:3])\n",
    "\n",
    "# 14- Üretilen dizinin elemanlarını tersten yazdırın.\n",
    "print(random_numbers4[::-1])\n",
    "\n",
    "# 15- Üretilen matrisin ilk satırını seçiniz.\n",
    "print(random_numbers3[0])\n",
    "\n",
    "# 16- Üretilen matrisin 2.satır 3.sütundaki elemanı hangisidir ?\n",
    "print( random_numbers3[1,2])\n",
    "\n",
    "# 17- Üretilen matrisin tüm satırlardaki ilk elemanı seçiniz.\n",
    "print( random_numbers3[:,0])\n",
    "# 18- Üretilen matrisin her bir elemanının karesini alınız.\n",
    "print( random_numbers3**2)\n",
    "\n",
    "# 19- Üretilen matris elemanlarının hangisi pozitif çift sayıdır ? Aralığı (-50,+50) arasında yapınız.\n",
    "random_numbers5=np.random.randint(-50,50,size=(3,5))\n",
    "print( (random_numbers5>0 ) & (random_numbers5 % 2==0))\n",
    "\n",
    "\n"
   ]
  }
 ],
 "metadata": {
  "kernelspec": {
   "display_name": "Python 3",
   "language": "python",
   "name": "python3"
  },
  "language_info": {
   "codemirror_mode": {
    "name": "ipython",
    "version": 3
   },
   "file_extension": ".py",
   "mimetype": "text/x-python",
   "name": "python",
   "nbconvert_exporter": "python",
   "pygments_lexer": "ipython3",
   "version": "3.11.1"
  },
  "orig_nbformat": 4
 },
 "nbformat": 4,
 "nbformat_minor": 2
}
