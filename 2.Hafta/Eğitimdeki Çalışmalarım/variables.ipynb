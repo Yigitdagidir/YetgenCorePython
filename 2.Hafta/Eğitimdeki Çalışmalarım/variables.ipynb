{
 "cells": [
  {
   "attachments": {},
   "cell_type": "markdown",
   "metadata": {},
   "source": [
    "## Değişkenler\n",
    "- Değişkenler bir verinin değerini saklar.\n",
    "- Değişkene ait veri sonradan değiştirilebilir.\n",
    "- Kodlar sırayla çalışır."
   ]
  },
  {
   "cell_type": "code",
   "execution_count": 103,
   "metadata": {},
   "outputs": [
    {
     "name": "stdout",
     "output_type": "stream",
     "text": [
      "Yetgen\n",
      "Yetgen Core Python\n"
     ]
    }
   ],
   "source": [
    "# Değişken ismi = atanacak değer\n",
    "# atama operatörü =\n",
    "print(\"Yetgen\")\n",
    "Yetgen=\"Yetgen Core Python\"\n",
    "print(Yetgen)\n"
   ]
  },
  {
   "attachments": {},
   "cell_type": "markdown",
   "metadata": {},
   "source": [
    "#### Değişken Tanımlama Kuralları\n",
    "- Değişken adlarında sayı,harf ve alt çizgi kullanılır lakin değişken adları sayı ile başlamaz.\n",
    "- büyük ve küçük harf duyarlıdır. \n",
    "- türkçe kelime kullanılmaz\n"
   ]
  },
  {
   "cell_type": "code",
   "execution_count": 104,
   "metadata": {},
   "outputs": [
    {
     "name": "stdout",
     "output_type": "stream",
     "text": [
      "7 tepeli güzel şehir\n"
     ]
    }
   ],
   "source": [
    "_34istanbul=\"7 tepeli güzel şehir\"\n",
    "print(_34istanbul)\n"
   ]
  },
  {
   "cell_type": "code",
   "execution_count": 105,
   "metadata": {},
   "outputs": [
    {
     "name": "stderr",
     "output_type": "stream",
     "text": [
      "<>:1: SyntaxWarning: invalid decimal literal\n",
      "<>:1: SyntaxWarning: invalid decimal literal\n",
      "C:\\Users\\yigoy\\AppData\\Local\\Temp\\ipykernel_11932\\2445208961.py:1: SyntaxWarning: invalid decimal literal\n",
      "  34istanbul=\"bozuk değişken\"\n"
     ]
    },
    {
     "ename": "SyntaxError",
     "evalue": "invalid syntax (2445208961.py, line 1)",
     "output_type": "error",
     "traceback": [
      "\u001b[1;36m  Cell \u001b[1;32mIn[105], line 1\u001b[1;36m\u001b[0m\n\u001b[1;33m    34istanbul=\"bozuk değişken\"\u001b[0m\n\u001b[1;37m      ^\u001b[0m\n\u001b[1;31mSyntaxError\u001b[0m\u001b[1;31m:\u001b[0m invalid syntax\n"
     ]
    }
   ],
   "source": [
    "34istanbul=\"bozuk değişken\"\n",
    "print(_34istanbul)"
   ]
  },
  {
   "cell_type": "code",
   "execution_count": null,
   "metadata": {},
   "outputs": [
    {
     "name": "stdout",
     "output_type": "stream",
     "text": [
      "5\n"
     ]
    }
   ],
   "source": [
    "sayi=5\n",
    "print(sayi)"
   ]
  },
  {
   "attachments": {},
   "cell_type": "markdown",
   "metadata": {},
   "source": [
    "- Değişken isimlerinde boşluk kullanılmaz.\n",
    "- Genelde camelCase adlandırması yapılır. İlk kelime küçük,sonraki kelimeler büyük harf ile başlar. Örn: yetgenCorePython"
   ]
  },
  {
   "cell_type": "code",
   "execution_count": null,
   "metadata": {},
   "outputs": [
    {
     "name": "stdout",
     "output_type": "stream",
     "text": [
      "Yigit Dagidir\n",
      "Ygt Dgdr\n"
     ]
    }
   ],
   "source": [
    "isimSoyisim= \"Yigit Dagidir\" # camelCase adlandırması\n",
    "\n",
    "print(isimSoyisim)\n",
    "\n",
    "isim_soyad= \"Ygt Dgdr\" # snake_case adlandırması\n",
    "print(isim_soyad)\n"
   ]
  },
  {
   "attachments": {},
   "cell_type": "markdown",
   "metadata": {},
   "source": [
    "### Type() komutu\n",
    "- Bir değişkenin integer,float,string ya da boolean olup olmadığını verir. Veri tipini anlarız.\n"
   ]
  },
  {
   "cell_type": "code",
   "execution_count": null,
   "metadata": {},
   "outputs": [
    {
     "name": "stdout",
     "output_type": "stream",
     "text": [
      "<class 'str'>\n"
     ]
    }
   ],
   "source": [
    "print(type(\"34istanbul\"))"
   ]
  },
  {
   "cell_type": "code",
   "execution_count": null,
   "metadata": {},
   "outputs": [
    {
     "data": {
      "text/plain": [
       "int"
      ]
     },
     "execution_count": 50,
     "metadata": {},
     "output_type": "execute_result"
    }
   ],
   "source": [
    "type(1)"
   ]
  },
  {
   "cell_type": "code",
   "execution_count": null,
   "metadata": {},
   "outputs": [
    {
     "data": {
      "text/plain": [
       "bool"
      ]
     },
     "execution_count": 51,
     "metadata": {},
     "output_type": "execute_result"
    }
   ],
   "source": [
    "type(True)"
   ]
  },
  {
   "cell_type": "code",
   "execution_count": null,
   "metadata": {},
   "outputs": [
    {
     "data": {
      "text/plain": [
       "float"
      ]
     },
     "execution_count": 52,
     "metadata": {},
     "output_type": "execute_result"
    }
   ],
   "source": [
    "type(3.14)"
   ]
  },
  {
   "cell_type": "code",
   "execution_count": null,
   "metadata": {},
   "outputs": [
    {
     "name": "stdout",
     "output_type": "stream",
     "text": [
      "<class 'int'>\n",
      "<class 'float'>\n",
      "<class 'str'>\n",
      "<class 'bool'>\n"
     ]
    }
   ],
   "source": [
    "print(type(42))\n",
    "print(type(9.81))\n",
    "print(type(\"whatever\"))\n",
    "print(type(False))"
   ]
  },
  {
   "attachments": {},
   "cell_type": "markdown",
   "metadata": {},
   "source": [
    "#### Sayı Veri Türleri\n",
    "\n",
    "##### İnt\n",
    "- Tam sayı\n"
   ]
  },
  {
   "cell_type": "code",
   "execution_count": null,
   "metadata": {},
   "outputs": [
    {
     "name": "stdout",
     "output_type": "stream",
     "text": [
      "10\n",
      "<class 'int'>\n"
     ]
    }
   ],
   "source": [
    "print(10)\n",
    "print(type(10))\n"
   ]
  },
  {
   "attachments": {},
   "cell_type": "markdown",
   "metadata": {},
   "source": [
    "##### Float\n",
    "- Ondalıklı sayı\n",
    "- Python 2 tane sayıyı birbirine böldüğü zaman gerçek sonuca ulaşmak için float değere döndürür.\n"
   ]
  },
  {
   "cell_type": "code",
   "execution_count": null,
   "metadata": {},
   "outputs": [
    {
     "name": "stdout",
     "output_type": "stream",
     "text": [
      "3.14\n",
      "<class 'float'>\n"
     ]
    }
   ],
   "source": [
    "pi=3.14\n",
    "print(pi)\n",
    "print(type(pi))\n"
   ]
  },
  {
   "attachments": {},
   "cell_type": "markdown",
   "metadata": {},
   "source": [
    "#### Matematiksel İşlemler \n",
    "##### Aritmetik Operatörler\n",
    "- Toplama +\n",
    "- Çıkarma -\n",
    "- Çarpma *\n",
    "- Bölme /\n",
    "- Üs alma **\n",
    "- Mod alma(kalanı verir) % \n",
    "- Tam bölme //"
   ]
  },
  {
   "cell_type": "code",
   "execution_count": null,
   "metadata": {},
   "outputs": [
    {
     "name": "stdout",
     "output_type": "stream",
     "text": [
      "9\n",
      "1\n",
      "20\n",
      "1.25\n"
     ]
    }
   ],
   "source": [
    "a=5\n",
    "b=4\n",
    "print(a+b)\n",
    "print(a-b)\n",
    "print(a*b)\n",
    "print(a/b)\n"
   ]
  },
  {
   "cell_type": "code",
   "execution_count": null,
   "metadata": {},
   "outputs": [
    {
     "name": "stdout",
     "output_type": "stream",
     "text": [
      "1.0\n"
     ]
    }
   ],
   "source": [
    "print(3/3) # int de olsa 2 sayıyı bölerken float değere döner"
   ]
  },
  {
   "cell_type": "code",
   "execution_count": null,
   "metadata": {},
   "outputs": [
    {
     "name": "stdout",
     "output_type": "stream",
     "text": [
      "625\n"
     ]
    }
   ],
   "source": [
    "print(a**b) # üs alma"
   ]
  },
  {
   "cell_type": "code",
   "execution_count": null,
   "metadata": {},
   "outputs": [
    {
     "name": "stdout",
     "output_type": "stream",
     "text": [
      "2\n"
     ]
    }
   ],
   "source": [
    "print(17%5) # bölümden kalanı verir"
   ]
  },
  {
   "cell_type": "code",
   "execution_count": null,
   "metadata": {},
   "outputs": [
    {
     "name": "stdout",
     "output_type": "stream",
     "text": [
      "3\n",
      "3.3333333333333335\n"
     ]
    }
   ],
   "source": [
    "print(10//3)\n",
    "print(10/3)"
   ]
  },
  {
   "attachments": {},
   "cell_type": "markdown",
   "metadata": {},
   "source": [
    "#### String\n",
    "- Metinsel ifadelerdir.\n",
    "- \" \" arasına yazılması gerekir\n",
    "- Stringin herhangi bir karakterine ulaşmak için indexing işlemini kullanırız.\n",
    "- Stringler indexlenmeye 0'dan başlanır. ve köşeli parantez [] ile gösterilir.\n",
    "\"Yetgen\" \n",
    "\n",
    "0.index: Y\n",
    "\n",
    "1.index: e"
   ]
  },
  {
   "cell_type": "code",
   "execution_count": null,
   "metadata": {},
   "outputs": [
    {
     "name": "stdout",
     "output_type": "stream",
     "text": [
      "Python Ogreniyorum.\n",
      "P\n",
      "y\n",
      " \n",
      "O\n"
     ]
    }
   ],
   "source": [
    "degisken=\"Python Ogreniyorum.\"\n",
    "print(degisken)\n",
    "print(degisken[0])\n",
    "print(degisken[1])\n",
    "print(degisken[6])\n",
    "print(degisken[7])"
   ]
  },
  {
   "cell_type": "code",
   "execution_count": null,
   "metadata": {},
   "outputs": [
    {
     "name": "stdout",
     "output_type": "stream",
     "text": [
      ".\n",
      "m\n"
     ]
    }
   ],
   "source": [
    "print(degisken[-1])\n",
    "print(degisken[-2])"
   ]
  },
  {
   "cell_type": "code",
   "execution_count": null,
   "metadata": {},
   "outputs": [
    {
     "name": "stdout",
     "output_type": "stream",
     "text": [
      "Yiğit Dağıdır\n"
     ]
    }
   ],
   "source": [
    "isim=\"Yiğit\"\n",
    "soyad=\"Dağıdır\"\n",
    "yas=18\n",
    "print(isim + \" \"+soyad)"
   ]
  },
  {
   "cell_type": "code",
   "execution_count": 114,
   "metadata": {},
   "outputs": [
    {
     "name": "stdout",
     "output_type": "stream",
     "text": [
      "Yiğit Dağıdır 18\n"
     ]
    }
   ],
   "source": [
    "print(isim+ \" \"+soyad+\" \"+ yas ) # int ve str bu şekilde print edilemez"
   ]
  },
  {
   "cell_type": "code",
   "execution_count": 108,
   "metadata": {},
   "outputs": [
    {
     "name": "stdout",
     "output_type": "stream",
     "text": [
      "Yiğit Dağıdır 18\n"
     ]
    }
   ],
   "source": [
    "print(isim,soyad,yas) # int ve str bu şekilde birlikte kullanılabilir\n"
   ]
  },
  {
   "cell_type": "code",
   "execution_count": 109,
   "metadata": {},
   "outputs": [
    {
     "name": "stdout",
     "output_type": "stream",
     "text": [
      "Yiğit Dağıdır 18\n"
     ]
    }
   ],
   "source": [
    "print(f\"{isim} {soyad} {yas}\") # bir diğer yöntem"
   ]
  },
  {
   "attachments": {},
   "cell_type": "markdown",
   "metadata": {},
   "source": [
    "#### Boolean\n",
    "- sadece true ya da false değerini döndürür."
   ]
  },
  {
   "cell_type": "code",
   "execution_count": 110,
   "metadata": {},
   "outputs": [
    {
     "name": "stdout",
     "output_type": "stream",
     "text": [
      "True\n",
      "<class 'bool'>\n"
     ]
    }
   ],
   "source": [
    "alive=True\n",
    "print(alive)\n",
    "print(type(alive))"
   ]
  },
  {
   "attachments": {},
   "cell_type": "markdown",
   "metadata": {},
   "source": [
    "#### İnput()\n",
    "- Kullanıcıdan veri almayı sağlar.\n",
    "- veri alırken string gibi davranır. Bu yüzden sayı alacaksan int ya da float kullan."
   ]
  },
  {
   "cell_type": "code",
   "execution_count": 119,
   "metadata": {},
   "outputs": [
    {
     "name": "stdout",
     "output_type": "stream",
     "text": [
      "Merhaba Yiğit Dağıdır 18\n"
     ]
    }
   ],
   "source": [
    "name=input(\"What is your name? :\")\n",
    "surname=input(\"What is your surname? :\")\n",
    "age=input(\"How old are you? :\")\n",
    "print(f\"Merhaba {name} {surname} {age}\")"
   ]
  },
  {
   "cell_type": "code",
   "execution_count": 126,
   "metadata": {},
   "outputs": [
    {
     "name": "stdout",
     "output_type": "stream",
     "text": [
      "13+12\n",
      "1312\n"
     ]
    }
   ],
   "source": [
    "no1=input(\"1.sayiyi gir\")\n",
    "no2=input(\"2.sayiyi gir\")\n",
    "print(f\"{no1}+{no2}\")\n",
    "print(no1+no2)"
   ]
  },
  {
   "cell_type": "code",
   "execution_count": 132,
   "metadata": {},
   "outputs": [
    {
     "name": "stdout",
     "output_type": "stream",
     "text": [
      "7.0\n",
      "4+3.0 = 7.0\n"
     ]
    }
   ],
   "source": [
    "sayi1= int(input(\"sayi gir\"))\n",
    "sayi2= float(input(\"sayi gir\"))\n",
    "print(sayi1 + sayi2)\n",
    "print(f\"{sayi1}+{sayi2} = {sayi1+sayi2}\")"
   ]
  }
 ],
 "metadata": {
  "kernelspec": {
   "display_name": "Python 3",
   "language": "python",
   "name": "python3"
  },
  "language_info": {
   "codemirror_mode": {
    "name": "ipython",
    "version": 3
   },
   "file_extension": ".py",
   "mimetype": "text/x-python",
   "name": "python",
   "nbconvert_exporter": "python",
   "pygments_lexer": "ipython3",
   "version": "3.11.1"
  },
  "orig_nbformat": 4,
  "vscode": {
   "interpreter": {
    "hash": "6a03f7bd33ce26a4e934335445520bf118d5e1aaf7b7c11b7812bd942e4483c5"
   }
  }
 },
 "nbformat": 4,
 "nbformat_minor": 2
}
