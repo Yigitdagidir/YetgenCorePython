{
 "cells": [
  {
   "attachments": {},
   "cell_type": "markdown",
   "metadata": {},
   "source": [
    "## 2.Hafta Hedefleri\n",
    "- Sayı Veri Türleri ve Matematiksel İşlemler\n",
    "- String, boolean veri türleri\n",
    "- Input fonksiyonu\n"
   ]
  },
  {
   "attachments": {},
   "cell_type": "markdown",
   "metadata": {},
   "source": [
    "- Print() fonksiyonu görevi ekrana çıktı vermektir. \" içerisinde yazılır."
   ]
  },
  {
   "cell_type": "code",
   "execution_count": 12,
   "metadata": {},
   "outputs": [
    {
     "name": "stdout",
     "output_type": "stream",
     "text": [
      "Hello World\n"
     ]
    }
   ],
   "source": [
    "print(\"Hello World\")\n"
   ]
  },
  {
   "cell_type": "code",
   "execution_count": 13,
   "metadata": {},
   "outputs": [
    {
     "name": "stdout",
     "output_type": "stream",
     "text": [
      "Hello World\n"
     ]
    }
   ],
   "source": [
    "print('Hello World')"
   ]
  },
  {
   "cell_type": "code",
   "execution_count": 14,
   "metadata": {},
   "outputs": [
    {
     "name": "stdout",
     "output_type": "stream",
     "text": [
      "Hello World\n"
     ]
    }
   ],
   "source": [
    "print(\"\"\"Hello World\"\"\")"
   ]
  },
  {
   "cell_type": "code",
   "execution_count": 15,
   "metadata": {},
   "outputs": [
    {
     "data": {
      "text/plain": [
       "'Hello World'"
      ]
     },
     "execution_count": 15,
     "metadata": {},
     "output_type": "execute_result"
    }
   ],
   "source": [
    "\"Hello World\""
   ]
  },
  {
   "cell_type": "code",
   "execution_count": 16,
   "metadata": {},
   "outputs": [
    {
     "data": {
      "text/plain": [
       "'Bu satırı basacak çünkü en son bunu yazdım ve print kullanmadım'"
      ]
     },
     "execution_count": 16,
     "metadata": {},
     "output_type": "execute_result"
    }
   ],
   "source": [
    "\"bu satırı basmayacak\"\n",
    "\"Bu satırı basacak çünkü en son bunu yazdım ve print kullanmadım\""
   ]
  },
  {
   "attachments": {},
   "cell_type": "markdown",
   "metadata": {},
   "source": [
    "#### Print() fonksiyonunun parametreleri\n",
    "1. sep\n",
    "- Ekrana basılacak ögeler arasına hangi karakterleri koyacağımızı gösterir."
   ]
  },
  {
   "cell_type": "code",
   "execution_count": 17,
   "metadata": {},
   "outputs": [
    {
     "name": "stdout",
     "output_type": "stream",
     "text": [
      "iphone-Samsung-Xiaomi\n"
     ]
    }
   ],
   "source": [
    "print(\"iphone\",\"Samsung\",\"Xiaomi\",sep=\"-\")"
   ]
  },
  {
   "cell_type": "code",
   "execution_count": 18,
   "metadata": {},
   "outputs": [
    {
     "name": "stdout",
     "output_type": "stream",
     "text": [
      "Avrupa/Türkiye/istanbul/Şişli\n"
     ]
    }
   ],
   "source": [
    "print(\"Avrupa\",\"Türkiye\",\"istanbul\",\"Şişli\",sep=\"/\")"
   ]
  },
  {
   "attachments": {},
   "cell_type": "markdown",
   "metadata": {},
   "source": [
    "2. end\n",
    "- parametrelerin sonuna neyin geleceğini belirler"
   ]
  },
  {
   "cell_type": "code",
   "execution_count": 19,
   "metadata": {},
   "outputs": [
    {
     "name": "stdout",
     "output_type": "stream",
     "text": [
      "Bugün hava çok güzel!"
     ]
    }
   ],
   "source": [
    "print(\"Bugün hava çok güzel\",end=\"!\")"
   ]
  },
  {
   "attachments": {},
   "cell_type": "markdown",
   "metadata": {},
   "source": [
    "## Yorum Satırları\n",
    "- Kodu inceleyenlere ipucu vermek için kullanılır.\n",
    "- Tek satır halinde açıklama eklemek için # işareti, çoklu yorum satırı için 3 tane tek tırnak(') kullanılır.\n"
   ]
  },
  {
   "cell_type": "code",
   "execution_count": 20,
   "metadata": {},
   "outputs": [
    {
     "name": "stdout",
     "output_type": "stream",
     "text": [
      "Hava çok sıcak\n"
     ]
    }
   ],
   "source": [
    "# tekli yorum satırı\n",
    "print(\"Hava çok sıcak\") # print() fonksiyonu ekrana baskı verir."
   ]
  },
  {
   "attachments": {},
   "cell_type": "markdown",
   "metadata": {},
   "source": [
    "çoklu yorum satırları için python dosyası -> https://github.com/yigitdagidir/YetgenCorePython/blob/72f0d45096a61777babc78e82e0bc7c6e0cb773d/1.Hafta/E%C4%9Fitimdeki%20%C3%87al%C4%B1%C5%9Fmalar%C4%B1m/yorumsatiri.py"
   ]
  }
 ],
 "metadata": {
  "kernelspec": {
   "display_name": "Python 3",
   "language": "python",
   "name": "python3"
  },
  "language_info": {
   "codemirror_mode": {
    "name": "ipython",
    "version": 3
   },
   "file_extension": ".py",
   "mimetype": "text/x-python",
   "name": "python",
   "nbconvert_exporter": "python",
   "pygments_lexer": "ipython3",
   "version": "3.11.1"
  },
  "orig_nbformat": 4,
  "vscode": {
   "interpreter": {
    "hash": "6a03f7bd33ce26a4e934335445520bf118d5e1aaf7b7c11b7812bd942e4483c5"
   }
  }
 },
 "nbformat": 4,
 "nbformat_minor": 2
}
