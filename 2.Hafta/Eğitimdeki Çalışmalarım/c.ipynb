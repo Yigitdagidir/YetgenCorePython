{
 "cells": [
  {
   "cell_type": "markdown",
   "metadata": {},
   "source": [
    "### Soru 4\n",
    "x ve y adında iki liste oluşturunuz. Bu listeleri birbiryle yer değiştirerek yazdırınız.\n",
    "\n",
    "```python\n",
    "x = [1,2,3,4,5]\n",
    "y = [5,4,3,2,1]\n",
    "``` \n",
    "\n",
    "```python\t\n",
    "Output:\n",
    "x = [5, 4, 3, 2, 1]\n",
    "y = [1, 2, 3, 4, 5]\n",
    "```"
   ]
  },
  {
   "attachments": {},
   "cell_type": "markdown",
   "metadata": {},
   "source": [
    " Bir diğer yol\n",
    " \n",
    " Kaynak : https://www.algoritmaornekleri.com/python/python-degisken-yer-degistirme/"
   ]
  },
  {
   "cell_type": "code",
   "execution_count": 5,
   "metadata": {},
   "outputs": [
    {
     "name": "stdout",
     "output_type": "stream",
     "text": [
      "[1, 2, 3, 4, 5]\n",
      "[5, 4, 3, 2, 1]\n"
     ]
    }
   ],
   "source": [
    "x = [5, 4, 3, 2, 1]\n",
    "y = [1, 2, 3, 4, 5]\n",
    "temp = x\n",
    "x = y\n",
    "y = temp \n",
    "print(x)\n",
    "print(y)\n",
    "\n"
   ]
  }
 ],
 "metadata": {
  "kernelspec": {
   "display_name": "Python 3",
   "language": "python",
   "name": "python3"
  },
  "language_info": {
   "codemirror_mode": {
    "name": "ipython",
    "version": 3
   },
   "file_extension": ".py",
   "mimetype": "text/x-python",
   "name": "python",
   "nbconvert_exporter": "python",
   "pygments_lexer": "ipython3",
   "version": "3.11.1"
  },
  "orig_nbformat": 4,
  "vscode": {
   "interpreter": {
    "hash": "6a03f7bd33ce26a4e934335445520bf118d5e1aaf7b7c11b7812bd942e4483c5"
   }
  }
 },
 "nbformat": 4,
 "nbformat_minor": 2
}
