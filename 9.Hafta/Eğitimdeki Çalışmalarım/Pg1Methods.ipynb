{
 "cells": [
  {
   "attachments": {},
   "cell_type": "markdown",
   "metadata": {},
   "source": [
    "## Metotlar"
   ]
  },
  {
   "cell_type": "code",
   "execution_count": 27,
   "metadata": {},
   "outputs": [
    {
     "name": "stdout",
     "output_type": "stream",
     "text": [
      "zam yapılıyor...\n",
      "\n",
      "        Çalışan Bilgisi :\n",
      "            isim : Yiğit\n",
      "            soyisim : Dağıdır\n",
      "            numara : 1234\n",
      "            maaş : 15250\n",
      "            bildiği diller : ['python', 'java']\n",
      "dil eklendi\n",
      "\n",
      "        Çalışan Bilgisi :\n",
      "            isim : Yiğit\n",
      "            soyisim : Dağıdır\n",
      "            numara : 1234\n",
      "            maaş : 15250\n",
      "            bildiği diller : ['python', 'java', 'react']\n"
     ]
    }
   ],
   "source": [
    "class Yazilimci():\n",
    "    def __init__ (self ,isim , soyisim, numara, maas , diller) :\n",
    "        self.isim=isim\n",
    "        self.soyisim=soyisim\n",
    "        self.numara=numara\n",
    "        self.maas=maas\n",
    "        self.diller=diller\n",
    "    \n",
    "    def bilgileri_goster(self):\n",
    "        print(f\"\"\"\n",
    "        Çalışan Bilgisi :\n",
    "            isim : {self.isim}\n",
    "            soyisim : {self.soyisim}\n",
    "            numara : {self.numara}\n",
    "            maaş : {self.maas}\n",
    "            bildiği diller : {self.diller}\"\"\")\n",
    "\n",
    "    \n",
    "    def dil_ekle(self, yenidil):\n",
    "        print(\"dil eklendi\")\n",
    "        self.diller.append(yenidil)\n",
    "\n",
    "    def maas_yukselt(self):\n",
    "        print(\"zam yapılıyor...\")\n",
    "        self.maas+=250\n",
    "\n",
    "yazilimci= Yazilimci(\"Yiğit\",\"Dağıdır\",\"1234\",15000,[\"python\",\"java\"])\n",
    "\n",
    "yazilimci.maas_yukselt()\n",
    "yazilimci.bilgileri_goster()\n",
    "yazilimci.dil_ekle(yenidil= \"react\")\n",
    "yazilimci.bilgileri_goster()"
   ]
  },
  {
   "cell_type": "code",
   "execution_count": 43,
   "metadata": {},
   "outputs": [
    {
     "name": "stdout",
     "output_type": "stream",
     "text": [
      "Person nesnesi türetildi.\n",
      "Yiğit Dağıdır 18\n"
     ]
    }
   ],
   "source": [
    "class Person():\n",
    "    def __init__(self,name,surname,age) :\n",
    "        self.name=name\n",
    "        self.surname=surname\n",
    "        self.age=age\n",
    "        print(\"Person nesnesi türetildi.\")\n",
    "\n",
    "    def giris(self):\n",
    "        print(self.name, self.surname , self.age)\n",
    "\n",
    "class Student(Person):\n",
    "    def __init__(self, name, surname, age, number):\n",
    "        super().__init__(name, surname, age)\n",
    "        self.number = number\n",
    "        print(\"Student nesnesi çalıştı\")\n",
    "\n",
    "    def giris(self):\n",
    "        print(self.name, self.surname, self.age , self.number)\n",
    "\n",
    "    def study(self):\n",
    "        print(f\"{self.number} numaralı öğrenci ders çalışıyor.\")\n",
    "\n",
    "class Teacher(Person):\n",
    "    def __init__(self, name, surname, age, branch):\n",
    "        super().__init__(name, surname, age)\n",
    "        self.branch=branch\n",
    "        print(\"Teacher nesnesi çalıştı\")\n",
    "\n",
    "    def teach(self):\n",
    "        print(f\"{self.name} adlı öğretmen {self.branch} dersine girmektedir.\")\n",
    "\n",
    "p1= Person(\"Yiğit\",\"Dağıdır\",18)\n",
    "p1.giris()\n",
    "\n",
    "\n",
    "\n",
    "\n"
   ]
  },
  {
   "cell_type": "code",
   "execution_count": 45,
   "metadata": {},
   "outputs": [
    {
     "name": "stdout",
     "output_type": "stream",
     "text": [
      "Person nesnesi türetildi.\n",
      "Student nesnesi çalıştı\n",
      "Ahmet Yılmaz 16 5555\n",
      "5555 numaralı öğrenci ders çalışıyor.\n"
     ]
    }
   ],
   "source": [
    "s1=Student(\"Ahmet\",\"Yılmaz\",16,5555)\n",
    "s1.giris()\n",
    "s1.study()"
   ]
  },
  {
   "cell_type": "code",
   "execution_count": 47,
   "metadata": {},
   "outputs": [
    {
     "name": "stdout",
     "output_type": "stream",
     "text": [
      "Person nesnesi türetildi.\n",
      "Teacher nesnesi çalıştı\n",
      "Yaşar Öztürk 55\n",
      "Yaşar adlı öğretmen Türkçe dersine girmektedir.\n"
     ]
    }
   ],
   "source": [
    "t1 = Teacher(\"Yaşar\",\"Öztürk\",55,\"Türkçe\")\n",
    "t1.giris()\n",
    "t1.teach()"
   ]
  },
  {
   "cell_type": "code",
   "execution_count": 55,
   "metadata": {},
   "outputs": [
    {
     "name": "stdout",
     "output_type": "stream",
     "text": [
      "Person nesnesi türetildi.\n",
      "Yiğit Dağıdır 18\n"
     ]
    }
   ],
   "source": [
    "class Person:\n",
    "    def __init__(self, name: str, surname: str, age: int) -> None:\n",
    "        self.name = name\n",
    "        self.surname = surname\n",
    "        self.age = age\n",
    "        print(\"Person nesnesi türetildi.\")\n",
    "\n",
    "    @property\n",
    "    def details(self) -> str:\n",
    "        return f\"{self.name} {self.surname} {self.age}\"\n",
    "\n",
    "p1 = Person(\"Yiğit\", \"Dağıdır\", 18)\n",
    "print(p1.details)\n"
   ]
  },
  {
   "cell_type": "code",
   "execution_count": null,
   "metadata": {},
   "outputs": [],
   "source": []
  }
 ],
 "metadata": {
  "kernelspec": {
   "display_name": "Python 3",
   "language": "python",
   "name": "python3"
  },
  "language_info": {
   "codemirror_mode": {
    "name": "ipython",
    "version": 3
   },
   "file_extension": ".py",
   "mimetype": "text/x-python",
   "name": "python",
   "nbconvert_exporter": "python",
   "pygments_lexer": "ipython3",
   "version": "3.11.1"
  },
  "orig_nbformat": 4
 },
 "nbformat": 4,
 "nbformat_minor": 2
}
