{
 "cells": [
  {
   "attachments": {},
   "cell_type": "markdown",
   "metadata": {},
   "source": [
    "## Dosya Okuma İşlemleri\n",
    "- dosya açmak ve oluşturmak için open() kullanılır.\n",
    "- open(dosyaismi, dosyaModu)\n",
    "- Dosya modu dosyanın açılacağı moddur.\n",
    "- r : okuma modunda açmayı sağlar. belirtilen konumda dosya olması gerekir\n",
    "- close() dosyayı kapatır."
   ]
  },
  {
   "cell_type": "code",
   "execution_count": 4,
   "metadata": {},
   "outputs": [
    {
     "name": "stdout",
     "output_type": "stream",
     "text": [
      "<_io.TextIOWrapper name='bilgiler.txt' mode='r' encoding='cp1254'>\n"
     ]
    }
   ],
   "source": [
    "f = open(\"bilgiler.txt\")\n",
    "print(f)\n",
    "# MOD BELİRTİLMEZSE READİNG MODUNDA AÇAR"
   ]
  },
  {
   "cell_type": "code",
   "execution_count": 8,
   "metadata": {},
   "outputs": [],
   "source": [
    "try:\n",
    "    file=open(\"bilgiler.txt\",\"r\",encoding=\"utf-8\")\n",
    "except:\n",
    "    print(\"böyle dosya yok\")\n"
   ]
  },
  {
   "cell_type": "code",
   "execution_count": 16,
   "metadata": {},
   "outputs": [
    {
     "name": "stdout",
     "output_type": "stream",
     "text": [
      "yetgende\n",
      "\n",
      "jump    adana\n",
      "\n",
      "python\n"
     ]
    }
   ],
   "source": [
    "file=open(\"bilgiler.txt\",\"r\",encoding=\"utf-8\")\n",
    "for i in file:\n",
    "    print(i)\n",
    "file.close\n"
   ]
  },
  {
   "attachments": {},
   "cell_type": "markdown",
   "metadata": {},
   "source": [
    "### read()\n",
    "- read() eğer içine hiçbir değer vermezsek dosyayı okuyacaktır."
   ]
  },
  {
   "cell_type": "code",
   "execution_count": 23,
   "metadata": {},
   "outputs": [
    {
     "name": "stdout",
     "output_type": "stream",
     "text": [
      "okuma içeriği:\n",
      " yetgende\n",
      "jump    adana\n",
      "python\n"
     ]
    }
   ],
   "source": [
    "file=open(\"bilgiler.txt\",encoding=\"utf-8\")\n",
    "icerik=file.read()\n",
    "print(\"okuma içeriği:\\n\",icerik)\n",
    "file.close()"
   ]
  },
  {
   "attachments": {},
   "cell_type": "markdown",
   "metadata": {},
   "source": [
    "### readline()\n",
    "- her çalıştırıldığında 1 satır okur."
   ]
  },
  {
   "cell_type": "code",
   "execution_count": 31,
   "metadata": {},
   "outputs": [
    {
     "name": "stdout",
     "output_type": "stream",
     "text": [
      "yetgende\n",
      "\n",
      "jump    adana\n",
      "\n",
      "python\n"
     ]
    }
   ],
   "source": [
    "file=open(\"bilgiler.txt\",encoding=\"utf-8\")\n",
    "print(file.readline())\n",
    "print(file.readline())\n",
    "print(file.readline())\n",
    "file.close()"
   ]
  },
  {
   "cell_type": "code",
   "execution_count": 51,
   "metadata": {},
   "outputs": [
    {
     "name": "stdout",
     "output_type": "stream",
     "text": [
      "['yetgende\\n', 'jump    adana\\n', 'python']\n",
      "3\n",
      "['yetgende\\n', 'jump    adana\\n', 'python']\n"
     ]
    }
   ],
   "source": [
    "file=open(\"bilgiler.txt\",encoding=\"utf-8\")\n",
    "\n",
    "lines = file.readlines()\n",
    "print(lines)\n",
    "print(len(lines))\n",
    "print(lines)\n",
    "file.close()"
   ]
  },
  {
   "attachments": {},
   "cell_type": "markdown",
   "metadata": {},
   "source": [
    "## Dosya Yazma İşlemleri\n",
    "- w : yazma modu. dosyayı konumda oluşturur. mevcut dosya varsa silip yenisini oluşturur. üzerine yazmaz. write()"
   ]
  },
  {
   "cell_type": "code",
   "execution_count": 53,
   "metadata": {},
   "outputs": [],
   "source": [
    "file=open(\"bilgiler.txt\",\"w\",encoding=\"utf-8\")\n",
    "file.write(\"yetgen\\n\")\n",
    "file.close()\n"
   ]
  },
  {
   "attachments": {},
   "cell_type": "markdown",
   "metadata": {},
   "source": [
    "- a : append modudur. dosya yoksa oluşturur. varsa son satıra ekler.\n",
    "- r+ : hem okuma hem yazma modu. dosya konumda yoksa hata verir."
   ]
  },
  {
   "cell_type": "code",
   "execution_count": 56,
   "metadata": {},
   "outputs": [],
   "source": [
    "file=open(\"bilgiler.txt\",\"a\",encoding=\"utf-8\")\n",
    "file.write(\"jump\\n\")\n",
    "file.close()"
   ]
  },
  {
   "cell_type": "code",
   "execution_count": 63,
   "metadata": {},
   "outputs": [],
   "source": [
    "file=open(\"bilgiler.txt\",\"r+\",encoding=\"utf-8\")\n",
    "file.write(\"tur\\n\")\n",
    "file.read()\n",
    "file.close()"
   ]
  },
  {
   "attachments": {},
   "cell_type": "markdown",
   "metadata": {},
   "source": [
    "## With open as ile Dosyayı otomatik kapatma\n",
    "- with open(dosyaadi,dosyakipi) as file:"
   ]
  },
  {
   "cell_type": "code",
   "execution_count": 64,
   "metadata": {},
   "outputs": [
    {
     "name": "stdout",
     "output_type": "stream",
     "text": [
      "tur\n",
      "n\n",
      "jump\n",
      "jump\n",
      "jump\n",
      "\n"
     ]
    }
   ],
   "source": [
    "with open(\"bilgiler.txt\",\"r\",encoding=\"utf-8\") as file:\n",
    "    print(file.read())"
   ]
  },
  {
   "attachments": {},
   "cell_type": "markdown",
   "metadata": {},
   "source": [
    "## Dosyayı ileri geri sarmak\n",
    "- seek() metodu ile istenilen bayt konumuna dönülünebilir.\n",
    "- dosyanın hangi bayt konumunda olduğunu bulmak için tell()"
   ]
  },
  {
   "cell_type": "code",
   "execution_count": 68,
   "metadata": {},
   "outputs": [
    {
     "name": "stdout",
     "output_type": "stream",
     "text": [
      "10\n"
     ]
    }
   ],
   "source": [
    "with open(\"bilgiler.txt\",\"r\",encoding=\"utf-8\") as file:\n",
    "          file.seek(10)\n",
    "          print(file.tell())"
   ]
  },
  {
   "cell_type": "code",
   "execution_count": 85,
   "metadata": {},
   "outputs": [
    {
     "name": "stdout",
     "output_type": "stream",
     "text": [
      "satir\n",
      "2.ha\n",
      "1.satir\n",
      "2.ha\n"
     ]
    }
   ],
   "source": [
    "with open(\"bilgiler.txt\",\"r\",encoding=\"utf-8\") as file:\n",
    "    file.seek(2)\n",
    "    icerik = file.read(10)\n",
    "    print(icerik)\n",
    "    file.seek(0)\n",
    "    icerik2= file.read(12)\n",
    "    \n",
    "   \n",
    "    print(icerik2)    "
   ]
  },
  {
   "attachments": {},
   "cell_type": "markdown",
   "metadata": {},
   "source": [
    "## Dosya sonunda değişiklik yapmak\n"
   ]
  },
  {
   "cell_type": "code",
   "execution_count": 87,
   "metadata": {},
   "outputs": [
    {
     "name": "stdout",
     "output_type": "stream",
     "text": [
      "1.satir\n",
      "2deneme\n",
      "3.kelime\n",
      "4.film\n",
      "5.dönem\n"
     ]
    }
   ],
   "source": [
    "with open(\"bilgiler.txt\",\"r+\",encoding=\"utf-8\") as file:\n",
    "    file.seek(10)\n",
    "    file.write(\"deneme\")\n",
    "    file.seek(0)\n",
    "    print(file.read())    "
   ]
  },
  {
   "attachments": {},
   "cell_type": "markdown",
   "metadata": {},
   "source": [
    "## Dosya başında değişiklik yapmak"
   ]
  },
  {
   "cell_type": "code",
   "execution_count": 106,
   "metadata": {},
   "outputs": [
    {
     "name": "stdout",
     "output_type": "stream",
     "text": [
      "Deneme\n",
      "Deneme\n",
      "Deneme\n",
      "1.satir\n",
      "adanaaa\n",
      "adanaaa\n",
      "2.kelime\n",
      "3.kelime\n",
      "4.film\n",
      "5.dönem\n"
     ]
    }
   ],
   "source": [
    "with open(\"bilgiler.txt\",\"r+\",encoding=\"utf-8\") as file:\n",
    "    icerik=file.read()\n",
    "    icerik = \"Deneme\\n\" + icerik\n",
    "    file.seek(0)\n",
    "    file.write(icerik) # bundan sonra file pointer otomatik olarak sona gider. \n",
    "    file.seek(0)\n",
    "    print(file.read())\n",
    "   \n",
    "    "
   ]
  },
  {
   "cell_type": "code",
   "execution_count": 102,
   "metadata": {},
   "outputs": [
    {
     "name": "stdout",
     "output_type": "stream",
     "text": [
      "Deneme\n",
      "1.satir\n",
      "2.kelime\n",
      "3.kelime\n",
      "4.film\n",
      "5.dönem\n"
     ]
    }
   ],
   "source": [
    "with open(\"bilgiler.txt\",\"r+\",encoding=\"utf-8\") as file:\n",
    "    print(file.read())    "
   ]
  },
  {
   "attachments": {},
   "cell_type": "markdown",
   "metadata": {},
   "source": [
    "## Dosya ortasında değişiklik yapmak\n"
   ]
  },
  {
   "cell_type": "code",
   "execution_count": 105,
   "metadata": {},
   "outputs": [],
   "source": [
    "with open(\"bilgiler.txt\",\"r+\",encoding=\"utf-8\") as file:\n",
    "    liste=file.readlines()\n",
    "    liste.insert(3,\"adanaaa\\n\")\n",
    "    file.seek(0)\n",
    "    file.writelines(liste)"
   ]
  },
  {
   "cell_type": "code",
   "execution_count": null,
   "metadata": {},
   "outputs": [],
   "source": [
    "class adana(Araba)"
   ]
  }
 ],
 "metadata": {
  "kernelspec": {
   "display_name": "Python 3",
   "language": "python",
   "name": "python3"
  },
  "language_info": {
   "codemirror_mode": {
    "name": "ipython",
    "version": 3
   },
   "file_extension": ".py",
   "mimetype": "text/x-python",
   "name": "python",
   "nbconvert_exporter": "python",
   "pygments_lexer": "ipython3",
   "version": "3.11.1"
  },
  "orig_nbformat": 4
 },
 "nbformat": 4,
 "nbformat_minor": 2
}
