{
 "cells": [
  {
   "attachments": {},
   "cell_type": "markdown",
   "metadata": {},
   "source": [
    "## Nesne Yönelimli Programlama\n",
    "- DRY (don't repeat yourself)\n"
   ]
  },
  {
   "attachments": {},
   "cell_type": "markdown",
   "metadata": {},
   "source": [
    "## Class\n",
    "- Class, objelerimizi oluştururken objelerin özelliklerini ve metodlarını tanımladığımız bir yapıdır."
   ]
  },
  {
   "cell_type": "code",
   "execution_count": 3,
   "metadata": {},
   "outputs": [],
   "source": [
    "class Araba():\n",
    "    # class özellikleri(attribute)\n",
    "    model = \"Renault Megane\"\n",
    "    renk = \"Gümüş\"\n",
    "    beygir = 110\n",
    "    silindir = 4\n",
    "\n",
    "\n"
   ]
  },
  {
   "attachments": {},
   "cell_type": "markdown",
   "metadata": {},
   "source": [
    "- obje oluşturma \n",
    "\n",
    "obje_ismi = sınıf_ismi(parametreler(opsiyonel))"
   ]
  },
  {
   "attachments": {},
   "cell_type": "markdown",
   "metadata": {},
   "source": [
    "- objelere erişme \n",
    "\n",
    "obje_ismi.özellik_ismi"
   ]
  },
  {
   "cell_type": "code",
   "execution_count": 6,
   "metadata": {},
   "outputs": [
    {
     "name": "stdout",
     "output_type": "stream",
     "text": [
      "Renault Megane\n",
      "Gümüş\n",
      "110\n"
     ]
    }
   ],
   "source": [
    "araba1=Araba()\n",
    "print(araba1.model)\n",
    "print(araba1.renk)\n",
    "print(araba1.beygir)"
   ]
  },
  {
   "cell_type": "code",
   "execution_count": 5,
   "metadata": {},
   "outputs": [
    {
     "name": "stdout",
     "output_type": "stream",
     "text": [
      "kuş\n"
     ]
    }
   ],
   "source": [
    "class Animal:\n",
    "    name = \"kuş\"\n",
    "    print(name)"
   ]
  },
  {
   "attachments": {},
   "cell_type": "markdown",
   "metadata": {},
   "source": [
    "## init()\n",
    "- Pythonda yapıcı(constructor ) fonksiyon olarak tanımlanmaktadır. Bu metod objelerimiz oluşturulurken otomatik olarak İlk çağrılan\n",
    "fonksiyondur. Bu metodu Özel olarak tanımlayarak objelerimizi farklı değerlerle oluşturabiliriz."
   ]
  },
  {
   "cell_type": "code",
   "execution_count": 9,
   "metadata": {},
   "outputs": [
    {
     "name": "stdout",
     "output_type": "stream",
     "text": [
      " init fonksiyonu çalıştı\n"
     ]
    }
   ],
   "source": [
    "class Araba():\n",
    "    def __init__(self):\n",
    "        print(\" init fonksiyonu çalıştı\")\n",
    "araba = Araba()"
   ]
  },
  {
   "cell_type": "markdown",
   "metadata": {},
   "source": [
    "- self anahtar kelimesi objeyi oluşturduğumuz zaman o objeyi gösteren bir referanstır ve metodlarımızda en başta bulunması gereken bir\n",
    "parametredir."
   ]
  },
  {
   "cell_type": "code",
   "execution_count": 21,
   "metadata": {},
   "outputs": [
    {
     "name": "stdout",
     "output_type": "stream",
     "text": [
      "peugeot 301\n",
      "90\n",
      "beyaz\n",
      "4\n"
     ]
    }
   ],
   "source": [
    "class Araba():\n",
    "    def __init__(self,model,renk,beygir,silindir):\n",
    "        \n",
    "        self.model=model\n",
    "        self.renk=renk\n",
    "        self.beygir_gucu=beygir\n",
    "        self.silindir=silindir\n",
    "\n",
    "\n",
    "araba2 = Araba(\"peugeot 301\",\"beyaz\",90,4)\n",
    "print(araba2.model)\n",
    "print(araba2.beygir_gucu)\n",
    "print(araba2.renk)\n",
    "print(araba2.silindir)\n",
    "\n"
   ]
  },
  {
   "cell_type": "markdown",
   "metadata": {},
   "source": [
    "## Uygulama\n",
    "- comment isminde bir sınıf\n",
    "- username,text,dislike,likes isminde özellikler\n",
    "- 5 adet farklı comment oluşturup döngü yardımıyla ekrana yazdıralım"
   ]
  },
  {
   "cell_type": "code",
   "execution_count": 34,
   "metadata": {},
   "outputs": [
    {
     "name": "stdout",
     "output_type": "stream",
     "text": [
      "david diyor ki: \n",
      "çok güzel olmuş.\n",
      " likes:500 \n",
      " dislikes:2 \n",
      " ------------ \n",
      "karen diyor ki: \n",
      "çöp.\n",
      " likes:0 \n",
      " dislikes:80 \n",
      " ------------ \n",
      "ahmet diyor ki: \n",
      "acaaayip.\n",
      " likes:900 \n",
      " dislikes:10 \n",
      " ------------ \n",
      "gülseren diyor ki: \n",
      "eh işte nötr.\n",
      " likes:1 \n",
      " dislikes:1 \n",
      " ------------ \n",
      "hamdi diyor ki: \n",
      "hiç beğenmedim.\n",
      " likes:10 \n",
      " dislikes:20 \n",
      " ------------ \n"
     ]
    }
   ],
   "source": [
    "class Comment():\n",
    "    def __init__(self,username,text,like,dislike):\n",
    "        self.username=username \n",
    "        self.text=text\n",
    "        self.like=like \n",
    "        self.dislike=dislike\n",
    "\n",
    "c1=Comment(\"david\",\"çok güzel olmuş\",500,2)\n",
    " \n",
    "print(f\"{c1.username} diyor ki: \\n{c1.text}.\\n likes:{c1.like} \\n dislikes:{c1.dislike} \\n ------------ \")"
   ]
  }
 ],
 "metadata": {
  "kernelspec": {
   "display_name": "Python 3",
   "language": "python",
   "name": "python3"
  },
  "language_info": {
   "codemirror_mode": {
    "name": "ipython",
    "version": 3
   },
   "file_extension": ".py",
   "mimetype": "text/x-python",
   "name": "python",
   "nbconvert_exporter": "python",
   "pygments_lexer": "ipython3",
   "version": "3.11.1"
  },
  "orig_nbformat": 4
 },
 "nbformat": 4,
 "nbformat_minor": 2
}
