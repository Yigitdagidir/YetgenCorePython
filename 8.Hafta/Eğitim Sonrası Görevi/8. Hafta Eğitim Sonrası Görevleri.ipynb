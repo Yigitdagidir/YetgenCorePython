{
 "cells": [
  {
   "attachments": {},
   "cell_type": "markdown",
   "metadata": {},
   "source": [
    "# Problem 1\n",
    "\n",
    "Şimdi beraber kullanıcılardan aldığımız verileri işleyerek, onlara hem çıktı verecek, hem de aldığımız ve hesapladığımız verileri ileride kullanabilmek adına kaydedeceğiz.\n",
    "\n",
    "\n",
    " **Bu bir veri giriş platformu olacak**\n",
    "\n",
    "\n",
    " * kullanıcıya kaç giriş yapacağını soracağız\n",
    "* kullanıcıdan isim-soyisim, yaş, boy, kilo bilgilerini alarak VKİ hesaplayacağız\n",
    "* ardından bunları sınıflara göre kaydedeceğiz bir dosyaya kaydedeceğiz\n",
    "\n",
    "\n",
    "Sınıflar ise şu şekilde: \n",
    "* 18, 5 kg/m.'nin altında olanlar: Zayıf\n",
    "* 18.5 – 24, 9 kg/m. arasında olanlar: Normal kilolu\n",
    "* 25 – 29, 9 kg/m. arasında olanlar: Fazla kilolu\n",
    "* 30 – 39, 9 kg/m. arasında olanlar: Obez\n",
    "* 40 kg/m.'nin üzerinde olanlar: İleri derecede obez (morbid obez), olarak görülür."
   ]
  },
  {
   "cell_type": "code",
   "execution_count": 12,
   "metadata": {},
   "outputs": [
    {
     "name": "stdout",
     "output_type": "stream",
     "text": [
      "kullanıcı kaydı 1\n",
      "kullanıcı kaydedildi \n",
      "veriler saglik.txt dosyasında kaydoldu.\n",
      "\n"
     ]
    }
   ],
   "source": [
    "# 1.Problemin Çözümünü Buraya Yazınız\n",
    "import time\n",
    "def vki_hesap(kilo,boy):\n",
    "\n",
    "    vki=kilo/(boy**2)\n",
    "    return round(vki,1)\n",
    "def deger_aralik(vki):\n",
    "    if vki<18.5:\n",
    "        return \"Zayıf kilolu\"\n",
    "    elif vki<24.9:\n",
    "        return \"normal kilolu\"\n",
    "    elif vki<29.9:\n",
    "        return \"Fazla kilolu\"\n",
    "    elif vki<39.9:\n",
    "        return \"obez\"\n",
    "\n",
    "    elif vki>40:\n",
    "        return \"ileri derecede obez\"\n",
    "\n",
    "def cikti(isim,yas,kilo,boy,vki,deger):\n",
    "    kayit=time.ctime(time.time())\n",
    "    t1=f\"kullanici adi {isim}\\n\"\n",
    "    t2=f\"yas={yas},kilo={kilo},boy={boy}  \\n\"\n",
    "    t3=f\"deger aralığı: {deger}\\n\"\n",
    "    t4=f\"vki {vki}\\n\"\n",
    "    t5=f\"tarih {kayit}\\n\"\n",
    "    output = t1+t2+t3+t4+t5\n",
    "    return output\n",
    "\n",
    "def main():\n",
    "    giris_sayisi=int(input(\"kaç kullanıcı verisi gireceksiniz?\"))\n",
    "    for i in range(giris_sayisi):\n",
    "        print(f\"kullanıcı kaydı {i+1}\")\n",
    "        isim=input(\"isim:\")\n",
    "        yas=int(input(\"yas:\"))\n",
    "        kilo=float(input(\"kilo:\"))\n",
    "        boy=float(input(\"boy:\"))\n",
    "        vki=float( vki_hesap(kilo,boy))\n",
    "        \n",
    "        deger=deger_aralik(vki)\n",
    "        output=cikti(isim,yas,kilo,boy,vki,deger)\n",
    "\n",
    "        with open(\"saglik.txt\",\"a\",encoding=\"utf-8\") as f:\n",
    "            f.write(output)\n",
    "            f.write(\"-\"*20)\n",
    "            f.write(\"\\n\")\n",
    "    print(\"kullanıcı kaydedildi \")\n",
    "    print(\"veriler saglik.txt dosyasında kaydoldu.\\n\")\n",
    "main()\n",
    "\n",
    "\n",
    "\n",
    "\n",
    "\n"
   ]
  },
  {
   "attachments": {},
   "cell_type": "markdown",
   "metadata": {},
   "source": [
    "# Problem 2\n",
    "**YetBar - Smoothie Bank**\n",
    "---\n",
    "YetBar spor salonunun girişinde bulunan, insansız bir sağlıklı içecek otomatıdır. Kullanıcı çeşitli girdiler smoothie içeceğine koyacağı ürünleri belirleyebilir, fiyat hesaplaması yaptırabilir ya da sadece menüyü görüntüleyebilir.\n",
    "\n",
    "**Projenin Amacı:**\n",
    "\n",
    "*   Birbirini etkileyen ve bir kod içerisinde birden fazla defa başvurulacak fonksiyonların oluşturulup, \"fonksiyonel\" proglamlamak.\n",
    "*   Büyük programları yazarken, yazılımcı olarak yapabileceğimiz hatalardan kaçınmak için kontrol yöntemleri geliştirmek.\n",
    "*   Kullanıcı inputlarını ve yaptığımız hesapları, raporlamak/loglamak amacıyla kaydetmek.\n",
    "\n",
    "**Programdan Beklenen Çıktılar**\n",
    "* Program kullanıcıya temelde 2 farklı işlem yapma imkanı sağlar.\n",
    "> 1. Menüyü görüntüleme\n",
    "> 3. Satın alma\n",
    "* Satın alınan her içecek tarih, fiyat bilgisi ile kaydedilmeli ve her zaman ulaşılabilir olmalıdır.\n",
    "\n",
    "\n"
   ]
  },
  {
   "cell_type": "code",
   "execution_count": null,
   "metadata": {},
   "outputs": [],
   "source": [
    "# 2.Problemin Çözümünü Buraya Yazınız"
   ]
  }
 ],
 "metadata": {
  "kernelspec": {
   "display_name": "Python 3",
   "language": "python",
   "name": "python3"
  },
  "language_info": {
   "codemirror_mode": {
    "name": "ipython",
    "version": 3
   },
   "file_extension": ".py",
   "mimetype": "text/x-python",
   "name": "python",
   "nbconvert_exporter": "python",
   "pygments_lexer": "ipython3",
   "version": "3.11.1"
  },
  "orig_nbformat": 4,
  "vscode": {
   "interpreter": {
    "hash": "5026d2d6e7aaaaba093def813beadff083d8733e4a511af01735cbabd156995d"
   }
  }
 },
 "nbformat": 4,
 "nbformat_minor": 2
}
